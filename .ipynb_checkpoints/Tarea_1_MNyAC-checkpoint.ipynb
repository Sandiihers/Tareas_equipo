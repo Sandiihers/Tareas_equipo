{
 "cells": [
  {
   "cell_type": "markdown",
<<<<<<< Updated upstream
   "id": "17667988",
=======
   "id": "8f74a790",
>>>>>>> Stashed changes
   "metadata": {},
   "source": [
    "# Tarea 1\n",
    "Equipo:\n",
    " 1. Hernández Ramos Sandra 😁\n",
    " 2. Rodríguez Rojas Guillermo "
   ]
  },
  {
   "cell_type": "markdown",
<<<<<<< Updated upstream
   "id": "c9452897",
=======
   "id": "34a54c19",
>>>>>>> Stashed changes
   "metadata": {},
   "source": [
    "Instrucciones. Los problemas fáciles valen 1 pt cada uno, los problemas de dificultad media\n",
    "valen 2 pts cada uno, y los difíciles valen 3 pts cada uno. Hacer el número de programas necesarios\n",
    "para sumar 10 pts. Por lo menos deben de realizar uno de cada tipo. La calificación máxima\n",
    "es de 10."
   ]
  },
  {
   "cell_type": "markdown",
<<<<<<< Updated upstream
   "id": "e39c5c00",
=======
   "id": "3b82ea59",
>>>>>>> Stashed changes
   "metadata": {},
   "source": [
    "## Problemas fáciles"
   ]
  },
  {
   "cell_type": "markdown",
<<<<<<< Updated upstream
   "id": "df6d1758",
=======
   "id": "1c78fc77",
>>>>>>> Stashed changes
   "metadata": {},
   "source": [
    "<span style=\"color:blue\">**Pregunta 1**</span>. Hacer un programa que transforme grados Celsius a grados Fahrenheit\n",
    "\n",
    "**Restricciones:**\n",
    "1. La función recibirá un número decimal\n",
    "2. La función regresará un número decimal"
   ]
  },
  {
   "cell_type": "markdown",
<<<<<<< Updated upstream
   "id": "21e5714f",
=======
   "id": "b4748b09",
>>>>>>> Stashed changes
   "metadata": {},
   "source": [
    "<span style=\"color:magenta\">Respuesta</span>\n",
    "Para convertir los grados Celsius a Fahrenheit utilizamos la siguiente ecuación:\n",
    "$$ F=\\frac{9}{5}C+32 $$"
   ]
  },
  {
   "cell_type": "code",
   "execution_count": 12,
<<<<<<< Updated upstream
   "id": "cd944b36",
=======
   "id": "20561973",
>>>>>>> Stashed changes
   "metadata": {},
   "outputs": [],
   "source": [
    "#Definimos una función \n",
    "def celsius_fahrenheit(C):\n",
    "    F=(9/5*C)+32\n",
    "    return F"
   ]
  },
  {
   "cell_type": "code",
   "execution_count": 13,
<<<<<<< Updated upstream
   "id": "635e25c7",
=======
   "id": "4bb1bfb4",
>>>>>>> Stashed changes
   "metadata": {},
   "outputs": [
    {
     "data": {
      "text/plain": [
       "57.2"
      ]
     },
     "execution_count": 13,
     "metadata": {},
     "output_type": "execute_result"
    }
   ],
   "source": [
    "#Comprobamos que funcione llamando a la función:\n",
    "celsius_fahrenheit(14)"
   ]
  },
  {
   "cell_type": "markdown",
<<<<<<< Updated upstream
   "id": "9357cd6d",
=======
   "id": "1115dc89",
>>>>>>> Stashed changes
   "metadata": {},
   "source": [
    "<span style=\"color:blue\">**Pregunta 2**</span>. Hacer un programa que transforme grados Fahrenheit a Kelvins\n",
    "\n",
    "**Restricciones**\n",
    "La función recibirá un número decimal\n",
    "La función regresará un número decimal"
   ]
  },
  {
   "cell_type": "markdown",
<<<<<<< Updated upstream
   "id": "9c400878",
=======
   "id": "d3e871b6",
>>>>>>> Stashed changes
   "metadata": {},
   "source": [
    "<span style=\"color:magenta\">Respuesta</span>\n",
    "Para convertir los grados Fahrenheit a Kelvin utilizamos la siguiente ecuación:\n",
    "$$ K =\\frac{5}{9}(F-32)+273.15 $$"
   ]
  },
  {
   "cell_type": "code",
   "execution_count": 34,
<<<<<<< Updated upstream
   "id": "f233630a",
=======
   "id": "4c2a431b",
>>>>>>> Stashed changes
   "metadata": {},
   "outputs": [],
   "source": [
    "#Definimos una función \n",
    "def fahrenheit_kelvins(F): \n",
    "    K=(5/9)*(F-32)+ 273.15\n",
    "    return K"
   ]
  },
  {
   "cell_type": "code",
   "execution_count": 33,
<<<<<<< Updated upstream
   "id": "166e6b95",
=======
   "id": "28b3bdda",
>>>>>>> Stashed changes
   "metadata": {},
   "outputs": [
    {
     "data": {
      "text/plain": [
       "280.5388888888889"
      ]
     },
     "execution_count": 33,
     "metadata": {},
     "output_type": "execute_result"
    }
   ],
   "source": [
    "#Comprobamos que funcione llamando a la función:\n",
    "fahrenheit_kelvins(45.3)"
   ]
  },
  {
   "cell_type": "markdown",
<<<<<<< Updated upstream
   "id": "131a887c",
=======
   "id": "b5b2dcbc",
>>>>>>> Stashed changes
   "metadata": {},
   "source": [
    "<span style=\"color:blue\">**Pregunta 3.**</span> Hacer un programa que, dados dos números, imprima tres líneas donde:\n",
    "1. La primera línea contenga la suma de los dos números\n",
    "2. La segunda línea contenga la diferencia de los dos números (primero-segundo)\n",
    "3. La tercera línea contenga el producto de los dos números\n",
    "\n",
    "**Restricciones**\n",
    "La función debe de recibir dos enteros, a y b tal que:\n",
    "$$1 <= a <= 10^{10}$$\n",
    "$$1 <= b <= 10^{10}$$\n",
    "\n",
    "La función no regresará nada, pero si debe de imprimir la información requerida en pantalla"
   ]
  },
  {
   "cell_type": "code",
   "execution_count": 105,
<<<<<<< Updated upstream
   "id": "e4c01577",
=======
   "id": "d877b7ea",
>>>>>>> Stashed changes
   "metadata": {},
   "outputs": [],
   "source": [
    "def tres_lineas(a,b):\n",
    "    if (1<= a <= 10**10) and (1<= b <= 10**10):\n",
    "        suma= a+b\n",
    "        resta= a-b\n",
    "        producto=a*b\n",
    "        print(suma)\n",
    "        print(resta)\n",
    "        print(producto)\n",
    "    else:\n",
    "        print(\"Te dije que a y b deben estar entre 1 y 10^{10}, pon atención o te pego\")  \n",
    "\n",
    "        "
   ]
  },
  {
   "cell_type": "code",
   "execution_count": 106,
<<<<<<< Updated upstream
   "id": "017bb209",
=======
   "id": "147aa65e",
>>>>>>> Stashed changes
   "metadata": {},
   "outputs": [
    {
     "name": "stdout",
     "output_type": "stream",
     "text": [
      "26\n",
      "-2\n",
      "168\n"
     ]
    }
   ],
   "source": [
    "#Caso donde cumple con las restricciones\n",
    "#Comprobamos que funcione llamando a la función:\n",
    "tres_lineas(12,14)"
   ]
  },
  {
   "cell_type": "code",
   "execution_count": 38,
<<<<<<< Updated upstream
   "id": "8d5dd571",
=======
   "id": "c0ef5af8",
>>>>>>> Stashed changes
   "metadata": {},
   "outputs": [
    {
     "name": "stdout",
     "output_type": "stream",
     "text": [
      "Te dije que a y b deben estar entre 1 y 10^{10}, pon atención o te pego\n"
     ]
    },
    {
     "data": {
      "text/plain": [
       "(12000000000000000, 140000000000000000)"
      ]
     },
     "execution_count": 38,
     "metadata": {},
     "output_type": "execute_result"
    }
   ],
   "source": [
    "#Caso donde no cumple con las restricciones\n",
    "#Comprobamos que funcione llamando a la función:\n",
    "tres_lineas(12000000000000000,140000000000000000)"
   ]
  },
  {
   "cell_type": "markdown",
<<<<<<< Updated upstream
   "id": "a161a864",
=======
   "id": "c9f564f8",
>>>>>>> Stashed changes
   "metadata": {},
   "source": [
    "<span style=\"color:blue\">**Pregunta 4.**</span>. Hacer un programa que, dados dos n ́umeros, regrese el producto de estos, pero, si\n",
    "el producto es mas grande que 1000, que regrese la suma.\n",
    "\n",
    "**Restricciones**\n",
    "La funci ́on debe de recibir dos enteros, a y b tal que:\n",
    "$$1 <= a <= 10^{10}$$\n",
    "$$1 <= b <= 10^{10}$$\n",
    "La funci ́on solo debe de regresar un n ́umero entero"
   ]
  },
  {
   "cell_type": "code",
   "execution_count": 44,
<<<<<<< Updated upstream
   "id": "35f1fe44",
=======
   "id": "5d03f10b",
>>>>>>> Stashed changes
   "metadata": {},
   "outputs": [],
   "source": [
    "def producto(a,b):\n",
    "    producto=int(a*b)\n",
    "    suma=int(a+b)\n",
    "    if (1<= a <= 10**10) and (1<= b <= 10**10):\n",
    "        if producto>1000:\n",
    "            print(\"Debido a que tu cochinada de números es muy grande y no sabemos multiplicar números muy grandes, mejor los sumamos :)\")\n",
    "            print(\"La suma de tus dos número es:\",suma)\n",
    "        else:\n",
    "            print(\"El producto de tus dos número es:\",producto)\n",
    "    else:\n",
    "        print(\"Te dije que a y b deben estar entre 1 y 10^{10}, pon atención o te pego\")"
   ]
  },
  {
   "cell_type": "code",
   "execution_count": 46,
<<<<<<< Updated upstream
   "id": "1ecc1058",
=======
   "id": "c4407e87",
>>>>>>> Stashed changes
   "metadata": {},
   "outputs": [
    {
     "name": "stdout",
     "output_type": "stream",
     "text": [
      "El producto de tus dos número es: 7\n"
     ]
    }
   ],
   "source": [
    "#Caso donde cumple con las restricciones y hace el producto\n",
    "#Comprobamos que funcione llamando a la función:\n",
    "#Regresa el número entero\n",
    "producto(2.3,3.1)"
   ]
  },
  {
   "cell_type": "code",
   "execution_count": 43,
<<<<<<< Updated upstream
   "id": "67ad4ae5",
=======
   "id": "e1691d77",
>>>>>>> Stashed changes
   "metadata": {},
   "outputs": [
    {
     "name": "stdout",
     "output_type": "stream",
     "text": [
      "Debido a que tu cochinada de números es muy grande y no sabemos multiplicar números muy grandes, mejor los sumamos :)\n",
      "La suma de tus dos número es: 2512\n"
     ]
    }
   ],
   "source": [
    "#Caso donde cumple con las restricciones y hace la suma\n",
    "#porque el producto es mayor a 1000\n",
    "#Comprobamos que funcione llamando a la función:\n",
    "producto(2,2510)"
   ]
  },
  {
   "cell_type": "code",
   "execution_count": 47,
<<<<<<< Updated upstream
   "id": "4bbc769e",
=======
   "id": "8ea68c81",
>>>>>>> Stashed changes
   "metadata": {},
   "outputs": [
    {
     "name": "stdout",
     "output_type": "stream",
     "text": [
      "Te dije que a y b deben estar entre 1 y 10^{10}, pon atención o te pego\n"
     ]
    }
   ],
   "source": [
    "#Caso donde no cumple con las restricciones\n",
    "producto(1000000000000,6000000000000000000)"
   ]
  },
  {
   "cell_type": "markdown",
<<<<<<< Updated upstream
   "id": "366c15e5",
=======
   "id": "ef3ac287",
>>>>>>> Stashed changes
   "metadata": {},
   "source": [
    "<span style=\"color:blue\">**Pregunta 5.**</span> Hacer un programa que, dados una lista de números y otro número, busque si el\n",
    "número está en la lista y, de estarlo, lo imprima en pantalla.\n",
    "\n",
    "**Restricciones**\n",
    "1. La función debe de recibir una lista de n ́umeros enteros cualesquiera y un número entero.\n",
    "2. La función no debe de regresar nada, pero si imprimir en pantalla la información requerida"
   ]
  },
  {
   "cell_type": "code",
   "execution_count": 30,
<<<<<<< Updated upstream
   "id": "0722b16d",
=======
   "id": "ece97561",
>>>>>>> Stashed changes
   "metadata": {},
   "outputs": [],
   "source": [
    "def lista_de_numeros(desde,hasta,numero):\n",
    "    #Con esto se crea la lista de numeros\n",
    "    lista=range(desde,hasta)\n",
    "    entero=int(numero)\n",
    "    if entero in lista:\n",
    "        print(\"El número está en la lista\")\n",
    "    else:\n",
    "        print(\"El número no está en la lista\")"
   ]
  },
  {
   "cell_type": "code",
   "execution_count": 31,
<<<<<<< Updated upstream
   "id": "f16dfe4c",
=======
   "id": "1d39e30a",
>>>>>>> Stashed changes
   "metadata": {},
   "outputs": [
    {
     "name": "stdout",
     "output_type": "stream",
     "text": [
      "El número está en la lista\n"
     ]
    }
   ],
   "source": [
    "#Creamos una lista que vaya desde el 0 al 9 \n",
    "#y que busque el número 4\n",
    "#lista_de_numeros(desde,hasta,numero):\n",
    "lista_de_numeros(0,10,4)"
   ]
  },
  {
   "cell_type": "code",
   "execution_count": 33,
<<<<<<< Updated upstream
   "id": "e3d06f6a",
=======
   "id": "4e9b8b3a",
>>>>>>> Stashed changes
   "metadata": {},
   "outputs": [
    {
     "name": "stdout",
     "output_type": "stream",
     "text": [
      "El número no está en la lista\n"
     ]
    }
   ],
   "source": [
    "#Creamos una lista que vaya desde el 0 al 10 \n",
    "#y que busque el número 11\n",
    "#lista_de_numeros(desde,hasta,numero):\n",
    "lista_de_numeros(0,10,11)"
   ]
  },
  {
   "cell_type": "code",
   "execution_count": 26,
<<<<<<< Updated upstream
   "id": "b5ba5756",
=======
   "id": "7bf2be77",
>>>>>>> Stashed changes
   "metadata": {},
   "outputs": [
    {
     "name": "stdout",
     "output_type": "stream",
     "text": [
      "Esta lista agregará numeros a está lista, hasta que pongas:0\n",
      "Ingresa los números de la lista:133\n",
      "Ingresar los números de la lista(0 para finalizar):33\n",
      "Ingresar los números de la lista(0 para finalizar):11\n",
      "Ingresar los números de la lista(0 para finalizar):2\n",
      "Ingresar los números de la lista(0 para finalizar):3\n",
      "Ingresar los números de la lista(0 para finalizar):333\n",
      "Ingresar los números de la lista(0 para finalizar):1\n",
      "Ingresar los números de la lista(0 para finalizar):355\n",
      "Ingresar los números de la lista(0 para finalizar):2\n",
      "Ingresar los números de la lista(0 para finalizar):2\n",
      "Ingresar los números de la lista(0 para finalizar):45\n",
      "Ingresar los números de la lista(0 para finalizar):6\n",
      "Ingresar los números de la lista(0 para finalizar):3\n",
      "Ingresar los números de la lista(0 para finalizar):0\n",
      "Ingresa el número que deseas buscar:2\n",
      "El número está en la lista\n",
      "[133, 33, 11, 2, 3, 333, 1, 355, 2, 2, 45, 6, 3]\n"
     ]
    }
   ],
   "source": [
    "#otra opción es que se ingrese una lista\n",
    "print(\"Esta lista agregará numeros a está lista, hasta que pongas:0\")\n",
    "lista=[]\n",
    "valores=int(input(\"Ingresa los números de la lista:\"))\n",
    "while valores!=0:\n",
    "    lista.append(valores)\n",
    "    valores=int(input(\"Ingresar los números de la lista(0 para finalizar):\"))\n",
    "entero=int(input(\"Ingresa el número que deseas buscar:\"))\n",
    "if entero in lista:\n",
    "        print(\"El número está en la lista\")\n",
    "        print(lista)\n",
    "else:\n",
    "        print(\"El número no está en la lista\")\n",
    "        print(lista)"
   ]
  },
  {
   "cell_type": "code",
   "execution_count": 34,
<<<<<<< Updated upstream
   "id": "31705e95",
=======
   "id": "c0bf892a",
>>>>>>> Stashed changes
   "metadata": {},
   "outputs": [
    {
     "name": "stdout",
     "output_type": "stream",
     "text": [
      "Esta lista agregará numeros a está lista, hasta que pongas:0\n",
      "Ingresa los números de la lista:112\n",
      "Ingresar los números de la lista(0 para finalizar):2\n",
      "Ingresar los números de la lista(0 para finalizar):33\n",
      "Ingresar los números de la lista(0 para finalizar):4\n",
      "Ingresar los números de la lista(0 para finalizar):1\n",
      "Ingresar los números de la lista(0 para finalizar):3\n",
      "Ingresar los números de la lista(0 para finalizar):5\n",
      "Ingresar los números de la lista(0 para finalizar):66\n",
      "Ingresar los números de la lista(0 para finalizar):7\n",
      "Ingresar los números de la lista(0 para finalizar):0\n",
      "Ingresa el número que deseas buscar:400\n",
      "El número no está en la lista\n",
      "[112, 2, 33, 4, 1, 3, 5, 66, 7]\n"
     ]
    }
   ],
   "source": [
    "#Caso donde no está en la lista\n",
    "#otra opción es que se ingrese una lista\n",
    "print(\"Esta lista agregará numeros a está lista, hasta que pongas:0\")\n",
    "lista=[]\n",
    "valores=int(input(\"Ingresa los números de la lista:\"))\n",
    "while valores!=0:\n",
    "    lista.append(valores)\n",
    "    valores=int(input(\"Ingresar los números de la lista(0 para finalizar):\"))\n",
    "entero=int(input(\"Ingresa el número que deseas buscar:\"))\n",
    "if entero in lista:\n",
    "        print(\"El número está en la lista\")\n",
    "        print(lista)\n",
    "else:\n",
    "        print(\"El número no está en la lista\")\n",
    "        print(lista)"
   ]
  },
  {
   "cell_type": "markdown",
<<<<<<< Updated upstream
   "id": "0ce4c6da",
=======
   "id": "22624d4b",
>>>>>>> Stashed changes
   "metadata": {},
   "source": [
    "<span style=\"color:blue\">**Pregunta 6.**</span> Hacer un programa que cuente las veces que aparece una palabra en una oración.\n",
    "\n",
    "**Restricciones**\n",
    "1. La función debe de recibir una string con la palabra a buscar y otra string que solo podrá contener letras (ya sea mayúsculas o minúsculas) y espacios en blanco.\n",
    "2. La función debe de regresar un número entero."
   ]
  },
  {
   "cell_type": "code",
   "execution_count": 96,
<<<<<<< Updated upstream
   "id": "f8806c86",
=======
   "id": "062f8058",
>>>>>>> Stashed changes
   "metadata": {},
   "outputs": [],
   "source": [
    "def palabras_en_oracion(buscar,oracion):\n",
    "    print(\"La palabra\",buscar,\"se encuentra\",oracion.count(buscar),\"veces en la oración\")"
   ]
  },
  {
   "cell_type": "code",
   "execution_count": 97,
<<<<<<< Updated upstream
   "id": "d00c5770",
=======
   "id": "b7c9348a",
>>>>>>> Stashed changes
   "metadata": {},
   "outputs": [
    {
     "name": "stdout",
     "output_type": "stream",
     "text": [
      "La palabra Sandra se encuentra 2 veces en la oración\n"
     ]
    }
   ],
   "source": [
    "palabras_en_oracion(\"Sandra\",\"Hola, Sandra ya callate Sandra\")"
   ]
  },
  {
   "cell_type": "markdown",
<<<<<<< Updated upstream
   "id": "c68e2d8c",
=======
   "id": "f6560f2a",
>>>>>>> Stashed changes
   "metadata": {},
   "source": [
    "<span style=\"color:blue\">**Pregunta 7.**</span> Hacer un programa que, dado un radio, calcule el  ́área de un circulo.\n",
    "\n",
    "**Restricciones**\n",
    "1. La función recibirá un número decimal\n",
    "2. La función regresará un número decimal"
   ]
  },
  {
   "cell_type": "code",
   "execution_count": 138,
<<<<<<< Updated upstream
   "id": "6393a165",
=======
   "id": "8f213aef",
>>>>>>> Stashed changes
   "metadata": {},
   "outputs": [],
   "source": [
    "def area_circulo(radio):\n",
    "    r=float(radio)\n",
    "    area=float(3.1416*radio**2)\n",
    "    print(\"El área del círculo con radio\",radio,\"es:\", area)"
   ]
  },
  {
   "cell_type": "code",
   "execution_count": 139,
<<<<<<< Updated upstream
   "id": "52e95a75",
=======
   "id": "67949177",
>>>>>>> Stashed changes
   "metadata": {},
   "outputs": [
    {
     "name": "stdout",
     "output_type": "stream",
     "text": [
      "El área del círculo con radio 12.0 es: 452.3904\n"
     ]
    }
   ],
   "source": [
    "area_circulo(12.0)"
   ]
  },
  {
   "cell_type": "code",
   "execution_count": 140,
<<<<<<< Updated upstream
   "id": "956a4d9e",
=======
   "id": "763803ad",
>>>>>>> Stashed changes
   "metadata": {},
   "outputs": [
    {
     "name": "stdout",
     "output_type": "stream",
     "text": [
      "Ingresa el radio del círculo, para calcular su área:12.0\n",
      "El área del círculo con radio 12.0 es: 452.3904\n"
     ]
    }
   ],
   "source": [
    "radio=float(input(\"Ingresa el radio del círculo, para calcular su área:\"))\n",
    "area=float(3.1416*radio**2)\n",
    "print(\"El área del círculo con radio\",radio,\"es:\", area)"
   ]
  },
  {
   "cell_type": "markdown",
<<<<<<< Updated upstream
   "id": "9e96e0a9",
=======
   "id": "992478a0",
>>>>>>> Stashed changes
   "metadata": {},
   "source": [
    "## Programas de dificultad media"
   ]
  },
  {
   "cell_type": "markdown",
<<<<<<< Updated upstream
   "id": "61e0bde1",
=======
   "id": "6a7b3c10",
>>>>>>> Stashed changes
   "metadata": {},
   "source": [
    "<span style=\"color:blue\">**Pregunta 8.**</span>. Hacer un programa que calcule el número de días entre dos fechas dadas.\n",
    "\n",
    "**Restricciones**\n",
    "1. La función debe de recibir dos fechas en forma de lista, (a, m, d). Por ejemplo el 8 de mayo de 1989 debe de escribir como: (1989, 5, 8)\n",
    "2. La función debe de regresar un número entero"
   ]
  },
  {
   "cell_type": "markdown",
<<<<<<< Updated upstream
   "id": "30124add",
=======
   "id": "389c010a",
>>>>>>> Stashed changes
   "metadata": {},
   "source": [
    "<span style=\"color:magenta\">Respuesta.</span>\n",
    "Sabemos que los meses tienen diferentes cantidades de días:\n",
    "\n",
    "Tienen 31 días: Enero, marzo, mayo, julio, agosto, octubre y diciembre.\n",
    "\n",
    "Tienen 30 días: Abril, junio, septiembre y noviembre.\n",
    "\n",
    "Tienen 28 días: Febrero.\n",
    "    \n",
    "y cada 4 años Febrero tiene 29 días\n",
    "\n",
    "**¿Cómo saber que un año es bisiesto?**\n",
    "\n",
    "En el calendario gregoriano, un año normal consta de 365 días. Debido a que la duración real de un año sideral (el tiempo necesario para que la Tierra gire una vez alrededor del Sol) es en realidad 365.2425 días, un \"año bisiesto\" de 366 días se utiliza una vez cada cuatro años para eliminar el error causado por tres años normales (pero cortos). Cualquier año divisible por 4 es un año bisiesto: por ejemplo, 1988, 1992 y 1996 son años bisiestos.\n",
    "\n",
    "Sin embargo, hay un pequeño error de cálculo que debe tenerse en cuenta. Para eliminar este error, el calendario gregoriano estipula que un año que es divisible por 100 (por ejemplo, 1900) es un año bisiesto solo si también es divisible por 400."
   ]
  },
  {
   "cell_type": "markdown",
<<<<<<< Updated upstream
   "id": "6b201352",
=======
   "id": "0afbdebd",
>>>>>>> Stashed changes
   "metadata": {},
   "source": [
    "### NUESTRA FUNCIÓN SIEMPRE LA PRIMER FECHA DEBE SER MENOR QUE LA SEGUNDA."
   ]
  },
  {
   "cell_type": "markdown",
<<<<<<< Updated upstream
   "id": "9ab31d5f",
=======
   "id": "ad8861a3",
>>>>>>> Stashed changes
   "metadata": {},
   "source": [
    "diferencia_de_fechas(a1, m1, d1, a2, m2, d2) donde:\n",
    "fecha del pasado=[a1,m1,d1]\n",
    "fecha del futuro=[a2,m2,d2]"
   ]
  },
  {
   "cell_type": "code",
<<<<<<< Updated upstream
   "execution_count": 383,
   "id": "4fda5059",
=======
   "execution_count": 16,
   "id": "811a556c",
>>>>>>> Stashed changes
   "metadata": {},
   "outputs": [],
   "source": [
    "def diferencia_de_fechas(a1, m1, d1, a2, m2, d2):\n",
    "    \n",
    "    # definimos una función para saber si un año es bisiesto o no\n",
    "    \n",
    "    def año_bisiesto(año):\n",
    "        #debe ser divisible entre 4, entre 100 y entre 400 por\n",
    "        return año % 4 == 0 and año % 100 != 0 or año % 400 == 0  #nos regresa un true o false\n",
    "    \n",
    "    if (a1>a2):\n",
    "        print(\"Tranquilo aún no tenemos viajes en el tiempo al pasado, bueno ni al futuro\")\n",
    "    #Tenemos 2 casos, para el caso en que tengamos una diferencia de fechas de años diferentes\n",
    "    # es decir que la segunda fecha sea mayor a la primera\n",
    "    elif (a1<a2):\n",
    "        \n",
    "        # Días restante primer año\n",
    "        #llamamos a la funcion de año bisiesto\n",
    "        if año_bisiesto(a1) == False: #si no es un año bisiesto tenemos el que cada mes tiene estos días\n",
    "            #empezamos la lista en cero para no tener que igual enero=0 y poder poner enero=1\n",
    "            cantidad_dias_por_mes = [0, 31, 28, 31, 30, 31, 30, 31, 31, 30, 31, 30, 31]\n",
    "        else:\n",
    "            cantidad_dias_por_mes = [0, 31, 29, 31, 30, 31, 30, 31, 31, 30, 31, 30, 31]\n",
    "            #Calculamos la cantidad de días que faltan para terminar el mes en curso\n",
    "            #con cantidad_dias_por_mes[m1] buscamos en el elemento m1 en la lista \"cantidad_dias_por_mes\"\n",
    "        dias_para_acabar_mes = cantidad_dias_por_mes[m1] - d1\n",
    "        #suma los meses de los días que faltan para acabar el año\n",
    "        acabar_año = 0 #aquí lo vamos a guardar\n",
    "        i = m1 + 1\n",
    "        while i <= 12:\n",
    "            acabar_año = acabar_año + cantidad_dias_por_mes[i]\n",
    "            i = i + 1\n",
    "    \n",
    "        primer_año = dias_para_acabar_mes + acabar_año\n",
    "    \n",
    "        # suma de días de los años que hay en medio\n",
    "    \n",
    "        suma_años = a1 + 1\n",
    "        totalDias = 0 #aquí lo vamos a guardar\n",
    "    \n",
    "        while (suma_años<a2):\n",
    "            if año_bisiesto(suma_años) == False:\n",
    "                totalDias = totalDias + 365\n",
    "                suma_años = suma_años + 1 #cuando termina se va al año siguiente y revisa si es bisiesto o no\n",
    "            else:\n",
    "                totalDias = totalDias + 366  #si es bisiesto \n",
    "                suma_años = suma_años + 1 #cuando termina se va al año siguiente y revisa si es bisiesto o no\n",
    "                \n",
    "        # Dias del año actual\n",
    "        if año_bisiesto(a2) == False: \n",
    "            cantidad_dias_por_mes = [0, 31, 28, 31, 30, 31, 30, 31, 31, 30, 31, 30, 31] #año no bisiesto\n",
    "        else:  \n",
    "            cantidad_dias_por_mes = [0, 31, 29, 31, 30, 31, 30, 31, 31, 30, 31, 30, 31]  #año bisiesto\n",
    "    \n",
    "        lleva_años = 0\n",
    "        ultimo_año = 0\n",
    "        i = 1\n",
    "    \n",
    "        while i < m2: \n",
    "            lleva_años = lleva_años + cantidad_dias_por_mes[i]\n",
    "            i = i + 1\n",
    "    \n",
    "        ultimo_año= d2 + lleva_años\n",
    "    \n",
    "        return totalDias + primer_año + ultimo_año\n",
    "    ## para el caso en que tengamos una diferencia de fechas en el mismo año  \n",
    "    else :\n",
    "        \n",
    "        if año_bisiesto(a1) == False: \n",
    "            cantidad_dias_por_mes = [0, 31, 28, 31, 30, 31, 30, 31, 31, 30, 31, 30, 31]\n",
    "        else:\n",
    "            cantidad_dias_por_mes = [0, 31, 29, 31, 30, 31, 30, 31, 31, 30, 31, 30, 31]\n",
    "            \n",
    "        dias_para_acabar_mes = cantidad_dias_por_mes[m1] - d1\n",
    "        lleva_años = 0\n",
    "        total = 0\n",
    "        i = m1 + 1\n",
    "        \n",
    "        if i < m2:\n",
    "            while i < m2:\n",
    "                lleva_años = lleva_años + cantidad_dias_por_mes[i]\n",
    "                i = i + 1\n",
    "            total = d2 + lleva_años + dias_para_acabar_mes\n",
    "            return total \n",
    "        elif(i==m2):\n",
    "            total = dias_para_acabar_mes + d2 -1\n",
    "            return total"
   ]
  },
  {
   "cell_type": "markdown",
<<<<<<< Updated upstream
   "id": "91cf5fbe",
=======
   "id": "d5f9b439",
>>>>>>> Stashed changes
   "metadata": {},
   "source": [
    "**Nota: El programa no cuenta el día de inicio ni del final, solo los días que están en medio**"
   ]
  },
  {
   "cell_type": "code",
<<<<<<< Updated upstream
   "execution_count": 384,
   "id": "9f94183e",
=======
   "execution_count": 17,
   "id": "c1b15000",
>>>>>>> Stashed changes
   "metadata": {},
   "outputs": [
    {
     "name": "stdout",
     "output_type": "stream",
     "text": [
      "Tranquilo aún no tenemos viajes en el tiempo al pasado, bueno ni al futuro\n"
     ]
    }
   ],
   "source": [
    "#Que pasa si alguien quiere saber la diferencia de fechas pero la fecha del pasado es una fecha del futuro\n",
    "diferencia_de_fechas(2030,5,31,1999,5,31)"
   ]
  },
  {
   "cell_type": "code",
<<<<<<< Updated upstream
   "execution_count": 385,
   "id": "7719479f",
=======
   "execution_count": 18,
   "id": "ca40cda7",
>>>>>>> Stashed changes
   "metadata": {
    "scrolled": false
   },
   "outputs": [
    {
     "data": {
      "text/plain": [
       "365"
      ]
     },
     "execution_count": 18,
     "metadata": {},
     "output_type": "execute_result"
    }
   ],
   "source": [
    "#vamos a probarlo \n",
    "diferencia_de_fechas(2020,7,1,2021,7,1)"
   ]
  },
  {
   "cell_type": "code",
<<<<<<< Updated upstream
   "execution_count": 386,
   "id": "0847827a",
=======
   "execution_count": 19,
   "id": "6835183c",
>>>>>>> Stashed changes
   "metadata": {},
   "outputs": [
    {
     "data": {
      "text/plain": [
       "365"
      ]
     },
     "execution_count": 19,
     "metadata": {},
     "output_type": "execute_result"
    }
   ],
   "source": [
    "#vamos a probarlo \n",
    "diferencia_de_fechas(2024,1,1,2024,12,31)"
   ]
  },
  {
   "cell_type": "code",
<<<<<<< Updated upstream
   "execution_count": 387,
   "id": "bb247308",
=======
   "execution_count": 20,
   "id": "b14bd2ba",
>>>>>>> Stashed changes
   "metadata": {},
   "outputs": [
    {
     "data": {
      "text/plain": [
       "1"
      ]
     },
     "execution_count": 20,
     "metadata": {},
     "output_type": "execute_result"
    }
   ],
   "source": [
    "#vamos a probarlo con fechas cercanas, desde que dejo la tarea hasta la feccha de entrega:\n",
    "diferencia_de_fechas(2021,6,30,2021,7,2) "
   ]
  },
  {
   "cell_type": "markdown",
<<<<<<< Updated upstream
   "id": "8e9961d1",
=======
   "id": "d20ac675",
>>>>>>> Stashed changes
   "metadata": {},
   "source": [
    "Pregunta 9. Dada una string, transformar las min ́usculas en may ́usculas y viceversa\n",
    "Restricciones\n",
    "La funci ́on debe de recibir una string que puede contener min ́usculas y may ́usculas\n",
    "La funci ́on debe de regresar una string"
   ]
  },
  {
   "cell_type": "code",
   "execution_count": null,
<<<<<<< Updated upstream
   "id": "b68a4888",
=======
   "id": "264e8f92",
>>>>>>> Stashed changes
   "metadata": {},
   "outputs": [],
   "source": []
  },
  {
   "cell_type": "markdown",
<<<<<<< Updated upstream
   "id": "cffeae18",
=======
   "id": "057ee120",
>>>>>>> Stashed changes
   "metadata": {},
   "source": [
    "Pregunta 10. Dada una string S y un ancho w, dividir la string en p ́arrafos con una anchura w.\n",
    "Restricciones\n",
    "La funci ́on debe de recibir una string que puede contener min ́usculas, may ́usculas, n ́umeros\n",
    "y car ́acteres especiales y tambi ́en recibir ́a un n ́umero entero que puede ser mas grande que\n",
    "el n ́umero de car ́acteres o puede no dividir de manera exacta el n ́umero de car ́acteres en la\n",
    "string.\n",
    "La funci ́on no regresar ́a nada, pero si debe de imprimir la string dividida"
   ]
  },
  {
   "cell_type": "code",
   "execution_count": null,
<<<<<<< Updated upstream
   "id": "2faad20f",
=======
   "id": "fb22ea0c",
>>>>>>> Stashed changes
   "metadata": {},
   "outputs": [],
   "source": []
  },
  {
   "cell_type": "markdown",
<<<<<<< Updated upstream
   "id": "c0318dd3",
=======
   "id": "4b80b71d",
>>>>>>> Stashed changes
   "metadata": {},
   "source": [
    "<span style=\"color:blue\">Pregunta 11.</span> Hacer un programa que, dada las coordenadas de dos puntos, calcule la distancia\n",
    "entre ellos.\n",
    "\n",
    "**Restricciones**\n",
    "\n",
    "1. La función debe de recibir el dos conjuntos de coordenadas como listas: (x, y, z).\n",
    "2. La función debe de regresar un número decimal"
   ]
  },
  {
   "cell_type": "markdown",
<<<<<<< Updated upstream
   "id": "02cce064",
=======
   "id": "fc3be833",
>>>>>>> Stashed changes
   "metadata": {},
   "source": [
    "<span style=\"color:magenta\">Respuesta.</span> \n",
    "\n",
    "Usamos la ecuacuión:\n",
    "  $$d=\\sqrt{\\left(x_{2}-x_{1}\\right)^{2}+\\left(y_{2}-y_{1}\\right)^{2}+\\left(z_{2}-z_{1}\\right)^{2}}$$"
   ]
  },
  {
   "cell_type": "code",
   "execution_count": 396,
<<<<<<< Updated upstream
   "id": "570b32e5",
=======
   "id": "48c1be7b",
>>>>>>> Stashed changes
   "metadata": {},
   "outputs": [],
   "source": [
    "def distancia_entre_puntos(x1,y1,z1,x2,y2,z2):\n",
    "    d=float(((x1-x2)**2+(y2-y1)**2+(z2-z1)**2)**(1/2))\n",
    "    return d"
   ]
  },
  {
   "cell_type": "code",
   "execution_count": 397,
<<<<<<< Updated upstream
   "id": "04c23360",
=======
   "id": "00e8ece1",
>>>>>>> Stashed changes
   "metadata": {},
   "outputs": [
    {
     "data": {
      "text/plain": [
       "9.0"
      ]
     },
     "execution_count": 397,
     "metadata": {},
     "output_type": "execute_result"
    }
   ],
   "source": [
    "distancia_entre_puntos(5,6,9,4,2,1)"
   ]
  },
  {
   "cell_type": "markdown",
<<<<<<< Updated upstream
   "id": "63cb8f26",
=======
   "id": "b6dfb5ef",
>>>>>>> Stashed changes
   "metadata": {},
   "source": [
    "Pregunta 12. Hacer un programa que convierta un entero a un n ́umero en base binaria\n",
    "Restricciones\n",
    "La funci ́on recibir ́a un n ́umero entero positivo en base decimal, incluyendo el cero.\n",
    "La funci ́on no regresar ́a nada, pero debe de imprimir el resultado"
   ]
  },
  {
   "cell_type": "code",
   "execution_count": null,
<<<<<<< Updated upstream
   "id": "5b20e789",
=======
   "id": "6579e899",
>>>>>>> Stashed changes
   "metadata": {},
   "outputs": [],
   "source": []
  },
  {
   "cell_type": "markdown",
<<<<<<< Updated upstream
   "id": "ca2ade7c",
=======
   "id": "22a79540",
>>>>>>> Stashed changes
   "metadata": {},
   "source": [
    "Pregunta 13. Hacer un programa que convierta un entero a un n ́umero en base hexadecimal\n",
    "Restricciones\n",
    "La funci ́on recibir ́a un n ́umero entero positivo en base decimal, incluyendo el cero.\n",
    "La funci ́on no regresar ́a nada, pero debe de imprimir el resultado"
   ]
  },
  {
   "cell_type": "code",
   "execution_count": null,
<<<<<<< Updated upstream
   "id": "f41cfabe",
=======
   "id": "837eac36",
>>>>>>> Stashed changes
   "metadata": {},
   "outputs": [],
   "source": []
  },
  {
   "cell_type": "markdown",
<<<<<<< Updated upstream
   "id": "7193e905",
=======
   "id": "9b58eacb",
>>>>>>> Stashed changes
   "metadata": {},
   "source": [
    "Pregunta 14. Hacer un programa que, dada una lista de dos elementos, intercambie de posici ́on\n",
    "los elementos.\n",
    "Restricciones\n",
    "La funci ́on recibir ́a una lista con dos elementos de cualquier tipo\n",
    "La funci ́on debe de regresar una lista con los elementos intercambiados."
   ]
  },
  {
   "cell_type": "code",
   "execution_count": null,
<<<<<<< Updated upstream
   "id": "f242eade",
=======
   "id": "274901a9",
>>>>>>> Stashed changes
   "metadata": {},
   "outputs": [],
   "source": []
  },
  {
   "cell_type": "markdown",
<<<<<<< Updated upstream
   "id": "a40924ec",
=======
   "id": "213be1c4",
>>>>>>> Stashed changes
   "metadata": {},
   "source": [
    "Pregunta 15. Hacer un programa que calcule el factorial de un n ́umero dado n.\n",
    "Restricciones\n",
    "La funci ́on debe de recibir un entero positivo, incluido el cero tal que:\n",
    "\n",
    "0 <= n <= 20\n",
    "La funci ́on debe de regresar un n ́umero entero"
   ]
  },
  {
   "cell_type": "markdown",
<<<<<<< Updated upstream
   "id": "3c4c50cc",
=======
   "id": "90385df5",
>>>>>>> Stashed changes
   "metadata": {},
   "source": [
    "## Problemas díficiles"
   ]
  },
  {
   "cell_type": "markdown",
<<<<<<< Updated upstream
   "id": "9b94a86e",
=======
   "id": "eb6df7d7",
>>>>>>> Stashed changes
   "metadata": {},
   "source": [
    "Pregunta 16. Dados cuatro enteros, i, j, k y n, escribir un programa que imprima todas las coor-\n",
    "denadas posibles tal que (i, j, k) donde la suma de i+j +k es diferente a n. Usar una comprensi ́on\n",
    "\n",
    "de lista.\n",
    "Restricciones\n",
    "La funci ́on recibir ́a cuatro enteros que pueden tomar cualquier valor entero.\n",
    "La funci ́on debe de regresar la lista resultante."
   ]
  },
  {
   "cell_type": "code",
   "execution_count": null,
<<<<<<< Updated upstream
   "id": "0e4addd7",
=======
   "id": "91880f91",
>>>>>>> Stashed changes
   "metadata": {},
   "outputs": [],
   "source": []
  },
  {
   "cell_type": "markdown",
<<<<<<< Updated upstream
   "id": "fba30780",
=======
   "id": "f5533ed5",
>>>>>>> Stashed changes
   "metadata": {},
   "source": [
    "<span style=\"color:blue\">Pregunta 17.</span>  Dada una string S, acomodar las caracteres de forma alfábetica de tal manera que:\n",
    "1. Las minúsculas van primera que las mayúsculas\n",
    "2. Las mayúsculas van primero que los números\n",
    "3. Los números impares van primero que los pares\n",
    "**Restricciones**\n",
    "1. El programa recibirá una sola string, S tal que:\n",
    " $$ 0 < len(S) < 1000 $$\n",
    "2. La función no debe de regresar nada, pero si debe de imprimir en pantalla la string resultante"
   ]
  },
  {
   "cell_type": "code",
   "execution_count": 30,
   "id": "f4de4ffd",
   "metadata": {},
   "outputs": [],
   "source": [
    "def acomodar_caracteres(string):\n",
    "    s=[string]\n",
    "    #creamos la listas donde vamos a guardar los caracteres\n",
    "    minusculas=[]\n",
    "    mayusculas=[]\n",
    "    numeros=[]\n",
    "    numerosimpares=[]\n",
    "    numerospares=[]\n",
    "    \n",
    "    if 0<len(s)<1000:    #Restricción 1 \n",
    "        #identificar números isdigit() y guardar en numeros=[]\n",
    "        for i in s:\n",
    "            if i.isdigit():\n",
    "                numeros.append(i)\n",
    "                numeros=list(map(int,numeros)) #con la función map se cambia el tipo de cada uno de los elementos\n",
    "                #Ahora separar a pares e impares. \n",
    "                if j in numeros:\n",
    "                    if j % 2==0:\n",
    "                        numerospares.append(j)\n",
    "                    else:\n",
    "                        numerosimpares.append(j)\n",
    "      \n",
    "    else:\n",
    "        print(\"Tu string es mayor a 1000 caracteres y toy chiquita no puedo hacer nada :c\")"
   ]
  },
  {
   "cell_type": "code",
   "execution_count": 32,
   "id": "e8b47e1b",
   "metadata": {},
   "outputs": [
    {
     "name": "stdout",
     "output_type": "stream",
     "text": [
      "[]\n"
     ]
    }
   ],
   "source": [
    "acomodar_caracteres(\"hola benito como estas1\")"
   ]
  },
  {
   "cell_type": "code",
   "execution_count": null,
<<<<<<< Updated upstream
   "id": "70401243",
=======
   "id": "b81b794f",
>>>>>>> Stashed changes
   "metadata": {},
   "outputs": [],
   "source": [
    "for x in string:\n",
    "    if x.isdigit():\n",
    "        numero.append(x)  \n",
    "    else:\n",
    "        letra.append(x) no se como lo uso el compañero pero lo que haces es verificar miembro a miembro en el string y los mandas a otra lista :3"
   ]
  },
  {
   "cell_type": "markdown",
<<<<<<< Updated upstream
   "id": "2220b1a4",
=======
   "id": "e5ec8a69",
>>>>>>> Stashed changes
   "metadata": {},
   "source": [
    "Pregunta 18. Dada una lista de enteros, determinar si es posible obtener una secuencia estricta-\n",
    "mente crecience al remover solo un elemento del arreglo.\n",
    "\n",
    "Restricciones\n",
    "La funci ́on recibir ́a una lista de n ́umeros enteros cualesquiera tal que:\n",
    "\n",
    "2 <= len(S) < 105\n",
    "La funci ́on debe de regresar un booleano, True o False"
   ]
  },
  {
   "cell_type": "code",
   "execution_count": null,
<<<<<<< Updated upstream
   "id": "14254565",
=======
   "id": "fcfc477b",
>>>>>>> Stashed changes
   "metadata": {},
   "outputs": [],
   "source": []
  },
  {
   "cell_type": "markdown",
<<<<<<< Updated upstream
   "id": "b1b69fe2",
=======
   "id": "61664c4d",
>>>>>>> Stashed changes
   "metadata": {},
   "source": [
    "Pregunta 19. Dado un entero n, imprimir el resultado correspondiente siguiendo la secuencia:\n",
    "#n = 3\n",
    "----c----\n",
    "--c-b-c--\n",
    "c-b-a-b-c\n",
    "--c-b-c--\n",
    "----c----\n",
    "#n = 5\n",
    "--------e--------\n",
    "------e-d-e------\n",
    "----e-d-c-d-e----\n",
    "--e-d-c-b-c-d-e--\n",
    "e-d-c-b-a-b-c-d-e\n",
    "--e-d-c-b-c-d-e--\n",
    "----e-d-c-d-e----\n",
    "------e-d-e------\n",
    "--------e--------\n",
    "#n = 7\n",
    "------------g------------\n",
    "----------g-f-g----------\n",
    "--------g-f-e-f-g--------\n",
    "------g-f-e-d-e-f-g------\n",
    "----g-f-e-d-c-d-e-f-g----\n",
    "--g-f-e-d-c-b-c-d-e-f-g--\n",
    "g-f-e-d-c-b-a-b-c-d-e-f-g\n",
    "--g-f-e-d-c-b-c-d-e-f-g--\n",
    "----g-f-e-d-c-d-e-f-g----\n",
    "------g-f-e-d-e-f-g------\n",
    "--------g-f-e-f-g--------\n",
    "----------g-f-g----------\n",
    "------------g------------\n",
    "Restricciones\n",
    "La funci ́on recibir ́a un numero entero tal que:\n",
    "n >= 0\n",
    "\n",
    "La funci ́on no regresar ́a nada, pero debe de imprimir el patr ́on requerido"
   ]
  },
  {
   "cell_type": "code",
<<<<<<< Updated upstream
   "execution_count": null,
   "id": "80b69cf3",
=======
   "execution_count": 2,
   "id": "9bea9470",
   "metadata": {},
   "outputs": [],
   "source": [
    "#Definimos la funcion que nos imprima las letras teniendo en cuenta que n inicia en 'a' y termina en 'Z' cuando n=26\n",
    "def romboLetras(n):\n",
    "    return [(\" \"*i)+\"\".join([chr(j+97) for j in list(range(n-1,i,-1))+list(range(i,n))]) for i in list(range(n-1,-1,-1))+list(range(1,n))]"
   ]
  },
  {
   "cell_type": "code",
   "execution_count": 3,
   "id": "af788578",
   "metadata": {},
   "outputs": [
    {
     "data": {
      "text/plain": [
       "[' b', 'bab', ' b']"
      ]
     },
     "execution_count": 3,
     "metadata": {},
     "output_type": "execute_result"
    }
   ],
   "source": [
    "#Veamos que funciona \n",
    "romboLetras(2)"
   ]
  },
  {
   "cell_type": "markdown",
   "id": "7d4b42a4",
   "metadata": {},
   "source": [
    "Vemos que imprime en forma de lista, entonces solo falta quitarle las comas y el corcchete y eso se hace con lo siguiente :"
   ]
  },
  {
   "cell_type": "code",
   "execution_count": 4,
   "id": "f734bf1a",
   "metadata": {},
   "outputs": [
    {
     "name": "stdout",
     "output_type": "stream",
     "text": [
      " b\n",
      "bab\n",
      " b\n"
     ]
    }
   ],
   "source": [
    "print(\"\\n\".join(romboLetras(2))) "
   ]
  },
  {
   "cell_type": "code",
   "execution_count": null,
   "id": "81445b98",
>>>>>>> Stashed changes
   "metadata": {},
   "outputs": [],
   "source": []
  }
 ],
 "metadata": {
  "kernelspec": {
   "display_name": "Python 3",
   "language": "python",
   "name": "python3"
  },
  "language_info": {
   "codemirror_mode": {
    "name": "ipython",
    "version": 3
   },
   "file_extension": ".py",
   "mimetype": "text/x-python",
   "name": "python",
   "nbconvert_exporter": "python",
   "pygments_lexer": "ipython3",
   "version": "3.8.8"
  }
 },
 "nbformat": 4,
 "nbformat_minor": 5
}
