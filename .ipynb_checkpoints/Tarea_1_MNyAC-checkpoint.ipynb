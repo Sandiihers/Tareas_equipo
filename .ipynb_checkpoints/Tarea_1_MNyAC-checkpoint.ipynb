{
 "cells": [
  {
   "cell_type": "markdown",
   "metadata": {},
   "source": [
    "# Tarea 1\n",
    "Equipo:\n",
    " 1. Hernández Ramos Sandra 😁\n",
    " 2. Rodríguez Rojas Guillermo 😎"
   ]
  },
  {
   "cell_type": "markdown",
   "metadata": {},
   "source": [
    "Instrucciones. Los problemas fáciles valen 1 pt cada uno, los problemas de dificultad media\n",
    "valen 2 pts cada uno, y los difíciles valen 3 pts cada uno. Hacer el número de programas necesarios\n",
    "para sumar 10 pts. Por lo menos deben de realizar uno de cada tipo. La calificación máxima\n",
    "es de 10."
   ]
  },
  {
   "cell_type": "markdown",
   "metadata": {},
   "source": [
    "## Problemas fáciles"
   ]
  },
  {
   "cell_type": "markdown",
   "metadata": {},
   "source": [
    "<span style=\"color:blue\">**Pregunta 1**</span>. Hacer un programa que transforme grados Celsius a grados Fahrenheit\n",
    "\n",
    "**Restricciones:**\n",
    "1. La función recibirá un número decimal\n",
    "2. La función regresará un número decimal"
   ]
  },
  {
   "cell_type": "markdown",
   "metadata": {},
   "source": [
    "<span style=\"color:magenta\">Respuesta</span>\n",
    "Para convertir los grados Celsius a Fahrenheit utilizamos la siguiente ecuación:\n",
    "$$ F=\\frac{9}{5}C+32 $$"
   ]
  },
  {
   "cell_type": "code",
   "execution_count": 12,
   "metadata": {},
   "outputs": [],
   "source": [
    "#Definimos una función \n",
    "def celsius_fahrenheit(C):\n",
    "    F=(9/5*C)+32\n",
    "    return F"
   ]
  },
  {
   "cell_type": "code",
   "execution_count": 13,
   "metadata": {},
   "outputs": [
    {
     "data": {
      "text/plain": [
       "57.2"
      ]
     },
     "execution_count": 13,
     "metadata": {},
     "output_type": "execute_result"
    }
   ],
   "source": [
    "#Comprobamos que funcione llamando a la función:\n",
    "celsius_fahrenheit(14)"
   ]
  },
  {
   "cell_type": "markdown",
   "metadata": {},
   "source": [
    "<span style=\"color:blue\">**Pregunta 2**</span>. Hacer un programa que transforme grados Fahrenheit a Kelvins\n",
    "\n",
    "**Restricciones**\n",
    "La función recibirá un número decimal\n",
    "La función regresará un número decimal"
   ]
  },
  {
   "cell_type": "markdown",
   "metadata": {},
   "source": [
    "<span style=\"color:magenta\">Respuesta</span>\n",
    "Para convertir los grados Fahrenheit a Kelvin utilizamos la siguiente ecuación:\n",
    "$$ K =\\frac{5}{9}(F-32)+273.15 $$"
   ]
  },
  {
   "cell_type": "code",
   "execution_count": 34,
   "metadata": {},
   "outputs": [],
   "source": [
    "#Definimos una función \n",
    "def fahrenheit_kelvins(F): \n",
    "    K=(5/9)*(F-32)+ 273.15\n",
    "    return K"
   ]
  },
  {
   "cell_type": "code",
   "execution_count": 33,
   "metadata": {},
   "outputs": [
    {
     "data": {
      "text/plain": [
       "280.5388888888889"
      ]
     },
     "execution_count": 33,
     "metadata": {},
     "output_type": "execute_result"
    }
   ],
   "source": [
    "#Comprobamos que funcione llamando a la función:\n",
    "fahrenheit_kelvins(45.3)"
   ]
  },
  {
   "cell_type": "markdown",
   "metadata": {},
   "source": [
    "<span style=\"color:blue\">**Pregunta 3.**</span> Hacer un programa que, dados dos números, imprima tres líneas donde:\n",
    "1. La primera línea contenga la suma de los dos números\n",
    "2. La segunda línea contenga la diferencia de los dos números (primero-segundo)\n",
    "3. La tercera línea contenga el producto de los dos números\n",
    "\n",
    "**Restricciones**\n",
    "La función debe de recibir dos enteros, a y b tal que:\n",
    "$$1 <= a <= 10^{10}$$\n",
    "$$1 <= b <= 10^{10}$$\n",
    "\n",
    "La función no regresará nada, pero si debe de imprimir la información requerida en pantalla"
   ]
  },
  {
   "cell_type": "code",
   "execution_count": 35,
   "metadata": {},
   "outputs": [],
   "source": [
    "def tres_lineas(a,b):\n",
    "    if (1<= a <= 10**10) and (1<= b <= 10**10):\n",
    "        suma= a+b\n",
    "        resta= a-b\n",
    "        producto=a*b\n",
    "        print(suma)\n",
    "        print(resta)\n",
    "        print(producto)\n",
    "    else:\n",
    "        print(\"Te dije que a y b deben estar entre 1 y 10^{10}, pon atención o te pego\")\n",
    "    return a,b   \n",
    "\n",
    "        "
   ]
  },
  {
   "cell_type": "code",
   "execution_count": 36,
   "metadata": {},
   "outputs": [
    {
     "name": "stdout",
     "output_type": "stream",
     "text": [
      "26\n",
      "-2\n",
      "168\n"
     ]
    },
    {
     "data": {
      "text/plain": [
       "(12, 14)"
      ]
     },
     "execution_count": 36,
     "metadata": {},
     "output_type": "execute_result"
    }
   ],
   "source": [
    "#Caso donde cumple con las restricciones\n",
    "#Comprobamos que funcione llamando a la función:\n",
    "tres_lineas(12,14)"
   ]
  },
  {
   "cell_type": "code",
   "execution_count": 38,
   "metadata": {},
   "outputs": [
    {
     "name": "stdout",
     "output_type": "stream",
     "text": [
      "Te dije que a y b deben estar entre 1 y 10^{10}, pon atención o te pego\n"
     ]
    },
    {
     "data": {
      "text/plain": [
       "(12000000000000000, 140000000000000000)"
      ]
     },
     "execution_count": 38,
     "metadata": {},
     "output_type": "execute_result"
    }
   ],
   "source": [
    "#Caso donde no cumple con las restricciones\n",
    "#Comprobamos que funcione llamando a la función:\n",
    "tres_lineas(12000000000000000,140000000000000000)"
   ]
  },
  {
   "cell_type": "markdown",
   "metadata": {},
   "source": [
    "<span style=\"color:blue\">**Pregunta 4.**</span>. Hacer un programa que, dados dos n ́umeros, regrese el producto de estos, pero, si\n",
    "el producto es mas grande que 1000, que regrese la suma.\n",
    "\n",
    "**Restricciones**\n",
    "La funci ́on debe de recibir dos enteros, a y b tal que:\n",
    "$$1 <= a <= 10^{10}$$\n",
    "$$1 <= b <= 10^{10}$$\n",
    "La funci ́on solo debe de regresar un n ́umero entero"
   ]
  },
  {
   "cell_type": "code",
   "execution_count": 44,
   "metadata": {},
   "outputs": [],
   "source": [
    "def producto(a,b):\n",
    "    producto=int(a*b)\n",
    "    suma=int(a+b)\n",
    "    if (1<= a <= 10**10) and (1<= b <= 10**10):\n",
    "        if producto>1000:\n",
    "            print(\"Debido a que tu cochinada de números es muy grande y no sabemos multiplicar números muy grandes, mejor los sumamos :)\")\n",
    "            print(\"La suma de tus dos número es:\",suma)\n",
    "        else:\n",
    "            print(\"El producto de tus dos número es:\",producto)\n",
    "    else:\n",
    "        print(\"Te dije que a y b deben estar entre 1 y 10^{10}, pon atención o te pego\")"
   ]
  },
  {
   "cell_type": "code",
   "execution_count": 46,
   "metadata": {},
   "outputs": [
    {
     "name": "stdout",
     "output_type": "stream",
     "text": [
      "El producto de tus dos número es: 7\n"
     ]
    }
   ],
   "source": [
    "#Caso donde cumple con las restricciones y hace el producto\n",
    "#Comprobamos que funcione llamando a la función:\n",
    "#Regresa el número entero\n",
    "producto(2.3,3.1)"
   ]
  },
  {
   "cell_type": "code",
   "execution_count": 43,
   "metadata": {},
   "outputs": [
    {
     "name": "stdout",
     "output_type": "stream",
     "text": [
      "Debido a que tu cochinada de números es muy grande y no sabemos multiplicar números muy grandes, mejor los sumamos :)\n",
      "La suma de tus dos número es: 2512\n"
     ]
    }
   ],
   "source": [
    "#Caso donde cumple con las restricciones y hace la suma\n",
    "#porque el producto es mayor a 1000\n",
    "#Comprobamos que funcione llamando a la función:\n",
    "producto(2,2510)"
   ]
  },
  {
   "cell_type": "code",
   "execution_count": 47,
   "metadata": {},
   "outputs": [
    {
     "name": "stdout",
     "output_type": "stream",
     "text": [
      "Te dije que a y b deben estar entre 1 y 10^{10}, pon atención o te pego\n"
     ]
    }
   ],
   "source": [
    "#Caso donde no cumple con las restricciones\n",
    "producto(1000000000000,6000000000000000000)"
   ]
  },
  {
   "cell_type": "markdown",
   "metadata": {},
   "source": [
    "<span style=\"color:blue\">**Pregunta 5.**</span> Hacer un programa que, dados una lista de números y otro número, busque si el\n",
    "número está en la lista y, de estarlo, lo imprima en pantalla.\n",
    "\n",
    "**Restricciones**\n",
    "1. La función debe de recibir una lista de n ́umeros enteros cualesquiera y un número entero.\n",
    "2. La función no debe de regresar nada, pero si imprimir en pantalla la información requerida"
   ]
  },
  {
   "cell_type": "code",
   "execution_count": 56,
   "metadata": {},
   "outputs": [],
   "source": [
    "def lista_de_numeros(desde,hasta,numero):\n",
    "    #Con esto se crea la lista de numeros\n",
    "    lista=range(desde,hasta)\n",
    "    entero=int(numero)\n",
    "    if entero in lista:\n",
    "        print(\"El número está en la lista\")\n",
    "    else:\n",
    "        print(\"El número no está en la lista\")"
   ]
  },
  {
   "cell_type": "code",
   "execution_count": 57,
   "metadata": {},
   "outputs": [
    {
     "name": "stdout",
     "output_type": "stream",
     "text": [
      "El número está en la lista\n"
     ]
    }
   ],
   "source": [
    "#Creamos una lista que vaya desde el 0 al 9 \n",
    "#y que busque el número 4\n",
    "lista_de_numeros(0,10,4)"
   ]
  },
  {
   "cell_type": "code",
   "execution_count": 59,
   "metadata": {},
   "outputs": [
    {
     "name": "stdout",
     "output_type": "stream",
     "text": [
      "El número no está en la lista\n"
     ]
    }
   ],
   "source": [
    "#Creamos una lista que vaya desde el 0 al 10 \n",
    "#y que busque el número 11\n",
    "lista_de_numeros(0,10,11)"
   ]
  },
  {
   "cell_type": "markdown",
   "metadata": {},
   "source": [
    "<span style=\"color:blue\">**Pregunta 6.**</span> Hacer un programa que cuente las veces que aparece una palabra en una oraci ́on.\n",
    "\n",
    "**Restricciones**\n",
    "1. La funci ́on debe de recibir una string con la palabra a buscar y otra string que solopodr ́a\n",
    "contener letras (ya sea may ́usculas o min ́usculas) y espacios en blanco.\n",
    "2. La funci ́on debe de regresar un n ́umero entero"
   ]
  },
  {
   "cell_type": "code",
   "execution_count": null,
   "metadata": {},
   "outputs": [],
   "source": []
  },
  {
   "cell_type": "markdown",
   "metadata": {},
   "source": [
    "<span style=\"color:blue\">**Pregunta 7.**</span> Hacer un programa que, dado un radio, calcule el  ́area de un circulo.\n",
    "\n",
    "**Restricciones**\n",
    "1. La funci ́on recibir ́a un n ́umero decimal\n",
    "2. La funci ́on regresar ́a un n ́umero decimal"
   ]
  },
  {
   "cell_type": "code",
   "execution_count": null,
   "metadata": {},
   "outputs": [],
   "source": []
  },
  {
   "cell_type": "markdown",
   "metadata": {},
   "source": [
    "## Programas de dificultad media"
   ]
  },
  {
   "cell_type": "markdown",
   "metadata": {},
   "source": [
    "Pregunta 8. Hacer un programa que calcule el n ́umero de d ́ıas entre dos fechas dadas.\n",
    "Restricciones\n",
    "La funci ́on debe de recibir dos fechas en forma de lista, (a, m, d). Por ejemplo el 8 de mayo\n",
    "de 1989 debe de escribir como: (1989, 5, 8)\n",
    "La funci ́on debe de regresar un n ́umero entero"
   ]
  },
  {
   "cell_type": "code",
   "execution_count": null,
   "metadata": {},
   "outputs": [],
   "source": []
  },
  {
   "cell_type": "markdown",
   "metadata": {},
   "source": [
    "Pregunta 9. Dada una string, transformar las min ́usculas en may ́usculas y viceversa\n",
    "Restricciones\n",
    "La funci ́on debe de recibir una string que puede contener min ́usculas y may ́usculas\n",
    "La funci ́on debe de regresar una string"
   ]
  },
  {
   "cell_type": "code",
   "execution_count": null,
   "metadata": {},
   "outputs": [],
   "source": []
  },
  {
   "cell_type": "markdown",
   "metadata": {},
   "source": [
    "Pregunta 10. Dada una string S y un ancho w, dividir la string en p ́arrafos con una anchura w.\n",
    "Restricciones\n",
    "La funci ́on debe de recibir una string que puede contener min ́usculas, may ́usculas, n ́umeros\n",
    "y car ́acteres especiales y tambi ́en recibir ́a un n ́umero entero que puede ser mas grande que\n",
    "el n ́umero de car ́acteres o puede no dividir de manera exacta el n ́umero de car ́acteres en la\n",
    "string.\n",
    "La funci ́on no regresar ́a nada, pero si debe de imprimir la string dividida"
   ]
  },
  {
   "cell_type": "code",
   "execution_count": null,
   "metadata": {},
   "outputs": [],
   "source": []
  },
  {
   "cell_type": "markdown",
   "metadata": {},
   "source": [
    "Pregunta 11. Hacer un programa que, dada las coordenadas de dos puntos, calcule la distancia\n",
    "entre ellos.\n",
    "Restricciones\n",
    "La funci ́on debe de recibir el dos conjuntos de coordenadas como listas: (x, y, z).\n",
    "La funci ́on debe de regresar un n ́umero decimal"
   ]
  },
  {
   "cell_type": "code",
   "execution_count": null,
   "metadata": {},
   "outputs": [],
   "source": []
  },
  {
   "cell_type": "markdown",
   "metadata": {},
   "source": [
    "Pregunta 12. Hacer un programa que convierta un entero a un n ́umero en base binaria\n",
    "Restricciones\n",
    "La funci ́on recibir ́a un n ́umero entero positivo en base decimal, incluyendo el cero.\n",
    "La funci ́on no regresar ́a nada, pero debe de imprimir el resultado"
   ]
  },
  {
   "cell_type": "code",
   "execution_count": null,
   "metadata": {},
   "outputs": [],
   "source": []
  },
  {
   "cell_type": "markdown",
   "metadata": {},
   "source": [
    "Pregunta 13. Hacer un programa que convierta un entero a un n ́umero en base hexadecimal\n",
    "Restricciones\n",
    "La funci ́on recibir ́a un n ́umero entero positivo en base decimal, incluyendo el cero.\n",
    "La funci ́on no regresar ́a nada, pero debe de imprimir el resultado"
   ]
  },
  {
   "cell_type": "code",
   "execution_count": null,
   "metadata": {},
   "outputs": [],
   "source": []
  },
  {
   "cell_type": "markdown",
   "metadata": {},
   "source": [
    "Pregunta 14. Hacer un programa que, dada una lista de dos elementos, intercambie de posici ́on\n",
    "los elementos.\n",
    "Restricciones\n",
    "La funci ́on recibir ́a una lista con dos elementos de cualquier tipo\n",
    "La funci ́on debe de regresar una lista con los elementos intercambiados."
   ]
  },
  {
   "cell_type": "code",
   "execution_count": null,
   "metadata": {},
   "outputs": [],
   "source": []
  },
  {
   "cell_type": "markdown",
   "metadata": {},
   "source": [
    "Pregunta 15. Hacer un programa que calcule el factorial de un n ́umero dado n.\n",
    "Restricciones\n",
    "La funci ́on debe de recibir un entero positivo, incluido el cero tal que:\n",
    "\n",
    "0 <= n <= 20\n",
    "La funci ́on debe de regresar un n ́umero entero"
   ]
  },
  {
   "cell_type": "markdown",
   "metadata": {},
   "source": [
    "## Problemas díficiles"
   ]
  },
  {
   "cell_type": "markdown",
   "metadata": {},
   "source": [
    "Pregunta 16. Dados cuatro enteros, i, j, k y n, escribir un programa que imprima todas las coor-\n",
    "denadas posibles tal que (i, j, k) donde la suma de i+j +k es diferente a n. Usar una comprensi ́on\n",
    "\n",
    "de lista.\n",
    "Restricciones\n",
    "La funci ́on recibir ́a cuatro enteros que pueden tomar cualquier valor entero.\n",
    "La funci ́on debe de regresar la lista resultante."
   ]
  },
  {
   "cell_type": "code",
   "execution_count": null,
   "metadata": {},
   "outputs": [],
   "source": []
  },
  {
   "cell_type": "markdown",
   "metadata": {},
   "source": [
    "Pregunta 17. Dada una string S, acomodar las caracteres de forma alfab ́etica de tal manera que:\n",
    "Las min ́usculas van primera que las may ́usculas\n",
    "Las may ́usculas van primero que los n ́umeros\n",
    "Los n ́umeros impares van primero que los pares\n",
    "Restricciones\n",
    "El programa recibir ́a una sola string, S tal que:\n",
    "0 < len(S) < 1000\n",
    "\n",
    "La funci ́on no debe de regresar nada, pero si debe de imprimir en pantalla la string resultante"
   ]
  },
  {
   "cell_type": "code",
   "execution_count": null,
   "metadata": {},
   "outputs": [],
   "source": []
  },
  {
   "cell_type": "markdown",
   "metadata": {},
   "source": [
    "Pregunta 18. Dada una lista de enteros, determinar si es posible obtener una secuencia estricta-\n",
    "mente crecience al remover solo un elemento del arreglo.\n",
    "\n",
    "Restricciones\n",
    "La funci ́on recibir ́a una lista de n ́umeros enteros cualesquiera tal que:\n",
    "\n",
    "2 <= len(S) < 105\n",
    "La funci ́on debe de regresar un booleano, True o False"
   ]
  },
  {
   "cell_type": "code",
   "execution_count": null,
   "metadata": {},
   "outputs": [],
   "source": []
  },
  {
   "cell_type": "markdown",
   "metadata": {},
   "source": [
    "Pregunta 19. Dado un entero n, imprimir el resultado correspondiente siguiendo la secuencia:\n",
    "#n = 3\n",
    "----c----\n",
    "--c-b-c--\n",
    "c-b-a-b-c\n",
    "--c-b-c--\n",
    "----c----\n",
    "#n = 5\n",
    "--------e--------\n",
    "------e-d-e------\n",
    "----e-d-c-d-e----\n",
    "--e-d-c-b-c-d-e--\n",
    "e-d-c-b-a-b-c-d-e\n",
    "--e-d-c-b-c-d-e--\n",
    "----e-d-c-d-e----\n",
    "------e-d-e------\n",
    "--------e--------\n",
    "#n = 7\n",
    "------------g------------\n",
    "----------g-f-g----------\n",
    "--------g-f-e-f-g--------\n",
    "------g-f-e-d-e-f-g------\n",
    "----g-f-e-d-c-d-e-f-g----\n",
    "--g-f-e-d-c-b-c-d-e-f-g--\n",
    "g-f-e-d-c-b-a-b-c-d-e-f-g\n",
    "--g-f-e-d-c-b-c-d-e-f-g--\n",
    "----g-f-e-d-c-d-e-f-g----\n",
    "------g-f-e-d-e-f-g------\n",
    "--------g-f-e-f-g--------\n",
    "----------g-f-g----------\n",
    "------------g------------\n",
    "Restricciones\n",
    "La funci ́on recibir ́a un numero entero tal que:\n",
    "n >= 0\n",
    "\n",
    "La funci ́on no regresar ́a nada, pero debe de imprimir el patr ́on requerido"
   ]
  },
  {
   "cell_type": "code",
   "execution_count": null,
   "metadata": {},
   "outputs": [],
   "source": []
  }
 ],
 "metadata": {
  "kernelspec": {
   "display_name": "Python 3",
   "language": "python",
   "name": "python3"
  },
  "language_info": {
   "codemirror_mode": {
    "name": "ipython",
    "version": 3
   },
   "file_extension": ".py",
   "mimetype": "text/x-python",
   "name": "python",
   "nbconvert_exporter": "python",
   "pygments_lexer": "ipython3",
   "version": "3.8.3"
  }
 },
 "nbformat": 4,
 "nbformat_minor": 5
}
