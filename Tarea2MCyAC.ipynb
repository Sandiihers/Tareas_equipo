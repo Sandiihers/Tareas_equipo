{
  "nbformat": 4,
  "nbformat_minor": 0,
  "metadata": {
    "kernelspec": {
      "display_name": "Python 3",
      "language": "python",
      "name": "python3"
    },
    "language_info": {
      "codemirror_mode": {
        "name": "ipython",
        "version": 3
      },
      "file_extension": ".py",
      "mimetype": "text/x-python",
      "name": "python",
      "nbconvert_exporter": "python",
      "pygments_lexer": "ipython3",
      "version": "3.8.3"
    },
    "colab": {
      "name": "Tarea2MCyAC.ipynb",
      "provenance": [],
      "collapsed_sections": [],
      "include_colab_link": true
    }
  },
  "cells": [
    {
      "cell_type": "markdown",
      "metadata": {
        "id": "view-in-github",
        "colab_type": "text"
      },
      "source": [
        "<a href=\"https://colab.research.google.com/github/Sandiihers/Tareas_equipo/blob/main/Tarea2MCyAC.ipynb\" target=\"_parent\"><img src=\"https://colab.research.google.com/assets/colab-badge.svg\" alt=\"Open In Colab\"/></a>"
      ]
    },
    {
      "cell_type": "markdown",
      "metadata": {
        "id": "8UXr4tXZay3i"
      },
      "source": [
        "# Tarea 2\n",
        "Equipo:\n",
        " 1. Hernández Ramos Sandra 😁 \n",
        " 2. Rodríguez Rojas Guillermo 😉 😎\n",
        " 3. Gonzalez Reyes Pedro Eduardo 🤠"
      ]
    },
    {
      "cell_type": "markdown",
      "metadata": {
        "id": "rXIF9kF0qgWb"
      },
      "source": [
        "Instrucciones. Deben realizar, máximo seis problemas de la sección problemas generales, máximo dos problemas de la sección de graficación y, de la sección Find-root realizar los problemas correspondientes para resolver 10 problemas en total."
      ]
    },
    {
      "cell_type": "code",
      "metadata": {
        "id": "5LY_SxyeQgps"
      },
      "source": [
        "from pylab import *\n",
        "import numpy as np"
      ],
      "execution_count": null,
      "outputs": []
    },
    {
      "cell_type": "markdown",
      "metadata": {
        "id": "olGx-vf1vYc_"
      },
      "source": [
        "# Problemas Generales"
      ]
    },
    {
      "cell_type": "markdown",
      "metadata": {
        "id": "J37oHS-Kay3p"
      },
      "source": [
        "## Pregunta 1\n",
        "Un carpintero está acomodando sus tablas que tiene en su taller. Por alguna extraña razón, quiere arreglarlas de la más pequeña a la más grande tal que cada tabla sea mas grande que la anterior por exactamente 1 unidad (arbitraria. Es posible que para cumplir su cometido, el carpintero necesite agregar tablas adicionales. Haz una función que calcule el n ́umero mínimo\n",
        "de tablas que el necesitará. \n",
        "#### Reglas\n",
        "1. No pueden usar paquetes\n",
        "2. Los elementos del arreglo de entrada solo serán números enteros positivos.\n",
        "3. El arreglo de entrada puede contener de 1 a 10 elementos\n",
        "4. Un elemento del arreglo de entrada puede medir de 0 a 20 unidades.\n",
        "5. La salida de la función solo debe de ser un número de entero.\n",
        "\n",
        "### El codigo se muestra a continuación "
      ]
    },
    {
      "cell_type": "code",
      "metadata": {
        "id": "A51EwHrKeb8P"
      },
      "source": [
        "#Función que cumple las reglass:\n",
        "def reglas2(tablas):\n",
        "  \"\"\"\n",
        "  Esta función nos ayuda a que la función principal \"def tablas arr2(tablas)\" pueda cumplir con lass reglas que \n",
        "  pide que el problema.\n",
        "  Guarda \"True o False\" en cada elemento del arreglo \"a\" que cumpla con las Reglas del problema. \n",
        "  Por último con \"False in a\" se le pregunta a la función si tenemos un elemento \"False\" en el arreglo a, entonces\n",
        "  si la función nos regresa un True asumimos que no cumple con las Reglas\n",
        "  \"\"\" \n",
        "  a=[(len(tablas)>1) and (len(tablas)<11) and (0<tablas[i]<21)for i in range(0,len(tablas))]\n",
        "  print(a)\n",
        "  return False in a"
      ],
      "execution_count": null,
      "outputs": []
    },
    {
      "cell_type": "code",
      "metadata": {
        "colab": {
          "base_uri": "https://localhost:8080/"
        },
        "id": "o8-S6nzkek79",
        "outputId": "b9518e85-27b0-4af3-eb01-a75e1a3b9390"
      },
      "source": [
        "reglas2([-1,2,3,4,45])\n",
        "#Regresa True si no las cumple"
      ],
      "execution_count": null,
      "outputs": [
        {
          "output_type": "stream",
          "text": [
            "[False, True, True, True, False]\n"
          ],
          "name": "stdout"
        },
        {
          "output_type": "execute_result",
          "data": {
            "text/plain": [
              "True"
            ]
          },
          "metadata": {
            "tags": []
          },
          "execution_count": 100
        }
      ]
    },
    {
      "cell_type": "code",
      "metadata": {
        "id": "SsOSGeJMAG9_"
      },
      "source": [
        "#tablas es de la forma [a,b,c,d,..] numeros enteros osea una lista de numeros enteros\n",
        "def tablas_arr2(tablas):\n",
        "    m_i = tablas[0]\n",
        "    m_f = tablas[0]\n",
        "    def reglas2(tablas): \n",
        "      a=[(len(tablas)>1) and (len(tablas)<11) and (0<tablas[i]<21)for i in range(0,len(tablas))]\n",
        "      return False in a\n",
        "    if reglas2(tablas)==True:\n",
        "      print(\"No pusiste atención a las reglas :) No haré lo que tú quieras. BYE\")\n",
        "    else:\n",
        "      for tabla in tablas:\n",
        "        if tabla <= m_i:\n",
        "            m_i = tabla\n",
        "        if tabla >= m_f:\n",
        "            m_f = tabla\n",
        "            \n",
        "    lst= []\n",
        "    num = m_i\n",
        "    while num != m_f:\n",
        "        num += 1\n",
        "        if num not in tablas:\n",
        "            lst.append(num)\n",
        "    return (len(lst))"
      ],
      "execution_count": null,
      "outputs": []
    },
    {
      "cell_type": "markdown",
      "metadata": {
        "id": "huPvYiqQay3u"
      },
      "source": [
        "Provemos el codigo "
      ]
    },
    {
      "cell_type": "code",
      "metadata": {
        "colab": {
          "base_uri": "https://localhost:8080/"
        },
        "id": "vyhGlHZ23Uko",
        "outputId": "fc351dac-f0eb-4a36-c8a7-ede3a833d749"
      },
      "source": [
        "#Caso donde se aplican todas las reglas\n",
        "tablas_arr2([1,3,5,7,9,11,13,15,17,19])\n",
        "#El resultado es 9 y es correcto porque necesitaría las tablas de tamaño 2,4,6,8,10,12,14,16,18"
      ],
      "execution_count": null,
      "outputs": [
        {
          "output_type": "execute_result",
          "data": {
            "text/plain": [
              "9"
            ]
          },
          "metadata": {
            "tags": []
          },
          "execution_count": 102
        }
      ]
    },
    {
      "cell_type": "code",
      "metadata": {
        "colab": {
          "base_uri": "https://localhost:8080/"
        },
        "id": "aogPS-JT_Mgi",
        "outputId": "30a1199c-470c-4b40-91c3-69a87a695950"
      },
      "source": [
        "#Caso donde no se aplica la regla \"Los elementos del arreglo de entrada solo serán números enteros positivos.\"\n",
        "tablas_arr2([1,3,-5,7,9,11,13,15,17,19])"
      ],
      "execution_count": null,
      "outputs": [
        {
          "output_type": "stream",
          "text": [
            "No pusiste atención a las reglas :) No haré lo que tú quieras. BYE\n"
          ],
          "name": "stdout"
        },
        {
          "output_type": "execute_result",
          "data": {
            "text/plain": [
              "0"
            ]
          },
          "metadata": {
            "tags": []
          },
          "execution_count": 103
        }
      ]
    },
    {
      "cell_type": "code",
      "metadata": {
        "colab": {
          "base_uri": "https://localhost:8080/"
        },
        "id": "YO6QF4KOA36j",
        "outputId": "0251d033-6a3c-41da-a137-8f20fd54298e"
      },
      "source": [
        "#Caso donde no se aplica la regla #El arreglo de entrada puede contener de 1 a 10 elementos\"\n",
        "tablas_arr2([1,2,3,5,7,9,11,13,15,17,19])\n",
        "a=[1,2,3,5,7,9,11,13,15,17,19] \n",
        "print(\"Podemos ver que en este caso el arreglo de entrada contiene\", len(a),\"elementos, por lo que no cumple la regla\")\n",
        "print(\"////////////////////////////////////////////////////////////////////////////\")\n",
        "b=[1,3,5,7,9,11,13,15,17,19]\n",
        "print(b)\n",
        "print(\"Este arreglo de entrada contiene\",len(b),\"elementos por lo que sí funciona:\")\n",
        "tablas_arr2([1,2,5,7,9,11,13,15,17,19])"
      ],
      "execution_count": null,
      "outputs": [
        {
          "output_type": "stream",
          "text": [
            "No pusiste atención a las reglas :) No haré lo que tú quieras. BYE\n",
            "Podemos ver que en este caso el arreglo de entrada contiene 11 elementos, por lo que no cumple la regla\n",
            "////////////////////////////////////////////////////////////////////////////\n",
            "[1, 3, 5, 7, 9, 11, 13, 15, 17, 19]\n",
            "Este arreglo de entrada contiene 10 elementos por lo que sí funciona:\n"
          ],
          "name": "stdout"
        },
        {
          "output_type": "execute_result",
          "data": {
            "text/plain": [
              "9"
            ]
          },
          "metadata": {
            "tags": []
          },
          "execution_count": 104
        }
      ]
    },
    {
      "cell_type": "code",
      "metadata": {
        "colab": {
          "base_uri": "https://localhost:8080/"
        },
        "id": "ocmncWisECMv",
        "outputId": "aad89a49-86da-4b95-94c2-7829edf66c15"
      },
      "source": [
        "#Caso donde no se aplica la regla \"Un elemento del arreglo de entrada puede medir de 0 a 20 unidades.\"\n",
        "tablas_arr2([1,22])"
      ],
      "execution_count": null,
      "outputs": [
        {
          "output_type": "stream",
          "text": [
            "No pusiste atención a las reglas :) No haré lo que tú quieras. BYE\n"
          ],
          "name": "stdout"
        },
        {
          "output_type": "execute_result",
          "data": {
            "text/plain": [
              "0"
            ]
          },
          "metadata": {
            "tags": []
          },
          "execution_count": 105
        }
      ]
    },
    {
      "cell_type": "markdown",
      "metadata": {
        "id": "WaZmTbkeay3y"
      },
      "source": [
        "## Pregunta 2\n",
        "Dadas dos strings, hacer una función que encuentre el número de caractéres en común.\\\n",
        "**Ejemplo**\\\n",
        "Sea s1 = 'ccell' y s2 = 'czlcc', la salida de la función debería de ser 3 ya que hay dos 'c' y una 'l' en común.\n",
        "#### Reglas\n",
        "1. No pueden usar paquetes\n",
        "2. Las strings de entrada solo contendran letras en minúsculas sin incluir la ñ.\n",
        "3. Las strings de entrada solo podrán tener de 1 a 15 caractéres.\n",
        "4. La salida solo será un entero.\n",
        "### Codigo"
      ]
    },
    {
      "cell_type": "code",
      "metadata": {
        "id": "PHJPV6xMay30"
      },
      "source": [
        "def c_c(letras1,letras2):\n",
        "    temp_lst = [caracter for caracter in letras2]\n",
        "    acum = 0\n",
        "    if (\"ñ\" in letras1) or (\"ñ\" in letras2):\n",
        "      print(\"Ño queremos a la ñ, así que intenta de nuevo\")\n",
        "    elif (len(letras1)>15) or (len(letras2)>15):\n",
        "      print(\"Tu string es muy grande, no sé que hacer con eso :C toy chiquita\")\n",
        "    elif (letras1.islower()==False) or (letras2.islower()==False): \n",
        "      print(\"Usa minúsculas plox, que con las mayúsculas siento que me estás gritando :)\")\n",
        "    else:\n",
        "      for caracter in letras1:\n",
        "        if caracter in temp_lst:\n",
        "            temp_lst.remove(caracter)\n",
        "            acum += 1\n",
        "      print(\"El número de caractéres en común es: \", int(acum))\n",
        "\n",
        "#letras1=\"ccell\"\n",
        "#letras2=\"czlcc\""
      ],
      "execution_count": null,
      "outputs": []
    },
    {
      "cell_type": "markdown",
      "metadata": {
        "id": "cLGwkhJoay32"
      },
      "source": [
        "Probemos el codigo "
      ]
    },
    {
      "cell_type": "code",
      "metadata": {
        "id": "VljQVBknay33",
        "colab": {
          "base_uri": "https://localhost:8080/"
        },
        "outputId": "a23064ac-7654-490c-e02c-6c589d55626d"
      },
      "source": [
        "#Caso donde se cumplen las reglas :)\n",
        "c_c(\"ccell\",\"czl\")\n",
        "#parece q si jalo XD"
      ],
      "execution_count": null,
      "outputs": [
        {
          "output_type": "stream",
          "text": [
            "El número de caractéres en común es:  2\n"
          ],
          "name": "stdout"
        }
      ]
    },
    {
      "cell_type": "code",
      "metadata": {
        "colab": {
          "base_uri": "https://localhost:8080/"
        },
        "id": "0tSxWXHsFeVf",
        "outputId": "22cb4cb7-fc7f-4365-edbb-7988e16d5f8e"
      },
      "source": [
        "#Caso donde no se cumple la regla: \n",
        "#\"Las strings de entrada no debe incluir la ñ.\"\n",
        "c_c(\"asddffñ\",\"sdff\")"
      ],
      "execution_count": null,
      "outputs": [
        {
          "output_type": "stream",
          "text": [
            "Ño queremos a la ñ, así que intenta de nuevo\n"
          ],
          "name": "stdout"
        }
      ]
    },
    {
      "cell_type": "code",
      "metadata": {
        "colab": {
          "base_uri": "https://localhost:8080/"
        },
        "id": "rGK4Q9GJKVJG",
        "outputId": "97702e36-529f-4e12-fbaf-1f0b25dab7a0"
      },
      "source": [
        "#Caso  donde las strings de entrada no solo contienen letras en minúsculas:\n",
        "c_c(\"AGHGGHa\",\"hghghg\")"
      ],
      "execution_count": null,
      "outputs": [
        {
          "output_type": "stream",
          "text": [
            "Usa minúsculas plox, que con las mayúsculas siento que me estás gritando :)\n"
          ],
          "name": "stdout"
        }
      ]
    },
    {
      "cell_type": "code",
      "metadata": {
        "colab": {
          "base_uri": "https://localhost:8080/"
        },
        "id": "CquFiG9MLFA1",
        "outputId": "7b33e5e9-c857-41e5-cebb-fb7f9e16c610"
      },
      "source": [
        "#Caso donde las strings de entrada tiene más de 15 caractéres\n",
        "c_c(\"asdfghjklqwertyyydggsjgjsad\",\"asgdahgdjsjdgahsdg\")\n"
      ],
      "execution_count": null,
      "outputs": [
        {
          "output_type": "stream",
          "text": [
            "Tu string es muy grande, no sé que hacer con eso :C toy chiquita\n"
          ],
          "name": "stdout"
        }
      ]
    },
    {
      "cell_type": "markdown",
      "metadata": {
        "id": "zKKpuPFWaavP"
      },
      "source": [
        "## Pregunta 3\n",
        "Cierto dueño superticioso de una cafetería aborda todos los días el transporte público para ir a su negocio (todo esto antes de la pandemia). Cada vez que aborda cierto transporte\n",
        "público, el hombre recibe un boleto con un número de serie. El considera que tendrá un buen día si la suma de la primera mitad de los dígitos del número de serie es igual a la suma de los dígitos de la segunda mitad. Dado un número de serie n, hacer una función que le diga si tendrá un buen día o no.\\\n",
        "**Ejemplo**\n",
        "Si el número de serie es n=2341, entonces la función debería de regresar *True*. Para el número\n",
        "de serie n=248028 la función debería de regresar *False*.\n",
        "#### Reglas\n",
        "1. No pueden usar paquetes\n",
        "2. El entero que se dará a la función será un número positivo con un número par de digitos.\n",
        "3. El entero de entrada podrá tomar un valor mínimo de 10 y un valor máximo de $10^{6}$\n",
        "4. La salida del programa debe de ser un booleano: True o False.\n",
        "\n",
        "### Codigo\n"
      ]
    },
    {
      "cell_type": "code",
      "metadata": {
        "id": "GHSaEFafay35"
      },
      "source": [
        "def suerte(ns):\n",
        "    index = 1\n",
        "    p_m = 0\n",
        "    s_m = 0\n",
        "    if len(str(ns))%2 !=0:\n",
        "      print(\"El número de la serie debe tener un número par de dígitos, los impares me  dan miedo\")\n",
        "    elif ns<0:\n",
        "      print(\"Hoy no es el día opuesto. USA NÚMEROS POSITIVOS\")\n",
        "    elif ns>10**6:\n",
        "      print(\"El número es muy grande :c usa uno más pequeño o lloro\")\n",
        "    elif ns<10:\n",
        "      print(\"Intenta con un número mayor a 10\")\n",
        "    else:\n",
        "      for digito in str(ns):\n",
        "        if index <= len(str(ns)) / 2:\n",
        "            index += 1\n",
        "            p_m += int(digito)\n",
        "        else:\n",
        "            s_m += int(digito)\n",
        "            \n",
        "      if p_m == s_m:\n",
        "        print(\"Wen dia :)\")\n",
        "        return True\n",
        "      else:\n",
        "        print(\"no se baiga a morir\")\n",
        "        return False\n"
      ],
      "execution_count": null,
      "outputs": []
    },
    {
      "cell_type": "markdown",
      "metadata": {
        "id": "xOhf4RDaay36"
      },
      "source": [
        "Probemos el codigo "
      ]
    },
    {
      "cell_type": "code",
      "metadata": {
        "id": "5_lmoHtXay37",
        "colab": {
          "base_uri": "https://localhost:8080/"
        },
        "outputId": "82e13603-c6f3-4684-d44b-522edc2f42ee"
      },
      "source": [
        "suerte(2341)"
      ],
      "execution_count": null,
      "outputs": [
        {
          "output_type": "stream",
          "text": [
            "Wen dia :)\n"
          ],
          "name": "stdout"
        },
        {
          "output_type": "execute_result",
          "data": {
            "text/plain": [
              "True"
            ]
          },
          "metadata": {
            "tags": []
          },
          "execution_count": 112
        }
      ]
    },
    {
      "cell_type": "code",
      "metadata": {
        "id": "kCLp8WuEay38",
        "colab": {
          "base_uri": "https://localhost:8080/"
        },
        "outputId": "51cc33b2-c7f0-4bd8-b952-fdd838930695"
      },
      "source": [
        "suerte(248028)"
      ],
      "execution_count": null,
      "outputs": [
        {
          "output_type": "stream",
          "text": [
            "no se baiga a morir\n"
          ],
          "name": "stdout"
        },
        {
          "output_type": "execute_result",
          "data": {
            "text/plain": [
              "False"
            ]
          },
          "metadata": {
            "tags": []
          },
          "execution_count": 113
        }
      ]
    },
    {
      "cell_type": "code",
      "metadata": {
        "colab": {
          "base_uri": "https://localhost:8080/"
        },
        "id": "W1Ebf4FTZLT3",
        "outputId": "91b7b923-a296-433c-cac7-04de3073902f"
      },
      "source": [
        "#Caso donde el número de serie es un número negativo:\n",
        "suerte(-12223)"
      ],
      "execution_count": null,
      "outputs": [
        {
          "output_type": "stream",
          "text": [
            "Hoy no es el día opuesto. USA NÚMEROS POSITIVOS\n"
          ],
          "name": "stdout"
        }
      ]
    },
    {
      "cell_type": "code",
      "metadata": {
        "colab": {
          "base_uri": "https://localhost:8080/"
        },
        "id": "zIaiA9cPa0YH",
        "outputId": "e4e03f09-1424-4038-f949-f2c54c5e156f"
      },
      "source": [
        "#Caso donde el número de digitos es impar:\n",
        "suerte(11123)"
      ],
      "execution_count": null,
      "outputs": [
        {
          "output_type": "stream",
          "text": [
            "El número de la serie debe tener un número par de dígitos, los impares me  dan miedo\n"
          ],
          "name": "stdout"
        }
      ]
    },
    {
      "cell_type": "code",
      "metadata": {
        "colab": {
          "base_uri": "https://localhost:8080/"
        },
        "id": "OBFUNCj2c7HV",
        "outputId": "b58083a2-f85c-4094-d989-af8d96560cd6"
      },
      "source": [
        "#Caso donde el número de serie es mayor a 10^{6}\n",
        "suerte(1223444430)"
      ],
      "execution_count": null,
      "outputs": [
        {
          "output_type": "stream",
          "text": [
            "El número es muy grande :c usa uno más pequeño o lloro\n"
          ],
          "name": "stdout"
        }
      ]
    },
    {
      "cell_type": "markdown",
      "metadata": {
        "id": "l4VUbtATay3-"
      },
      "source": [
        "## Pregunta 4 \n",
        "Una señora gusta de coleccionar tarros de galletas. Al organizar sus tarros por\n",
        "tamaño en su vitrina de exhibición, se da cuenta que hay algunos lugares que no puede ocupar\n",
        "dado que la madera de esos entrepaños está en mal estado y sus tarros podrían caerse (dado que\n",
        "ha gastado mucho dinero en los tarros, no puede comprar un nuevo mueble). Haz una función que\n",
        "ordene los tarros sin que ocupen los entrepaños en mal estado.\n",
        "#### Reglas \n",
        "1. No pueden usar paquetes\n",
        "2. Los entrepaños dañados son representados con un −1, por lo que esos elementos no se pueden mover de posición en el arreglo de entrada. Todos los demás números serán positivos y\n",
        "representarán la altura de los tarros de galletas en una unidad arbitraria.\n",
        "3. Los tarros pueden medir de 0 a 1000. Un cero representa que ahí no pondrá ningún tarro\n",
        "4. El arreglo de entrada puede contener de 1 a 1000 elementos\n",
        "5. La salida debe de ser un arreglo con los −1 intactos y los tarros acomodados por altura, del más chico al más grande.\n",
        "### Codigo"
      ]
    },
    {
      "cell_type": "code",
      "metadata": {
        "id": "lnapGUdOay3-"
      },
      "source": [
        "def or_tarros(tarro):\n",
        "    tarros_c = tarro[:]\n",
        "    temp_lst = sorted([digit for digit in tarro if digit != -1])\n",
        "    for i, item in enumerate(tarro):\n",
        "        if item != -1:\n",
        "            tarros_c[i] = temp_lst[0]\n",
        "            temp_lst.remove(temp_lst[0])\n",
        "    return tarros_c"
      ],
      "execution_count": null,
      "outputs": []
    },
    {
      "cell_type": "markdown",
      "metadata": {
        "id": "9wE7lHZday3_"
      },
      "source": [
        "Probemos el codigo "
      ]
    },
    {
      "cell_type": "code",
      "metadata": {
        "id": "VSAoLnXcay4A",
        "colab": {
          "base_uri": "https://localhost:8080/"
        },
        "outputId": "a16e2e1d-04f0-4a19-d975-562ce1b8edd0"
      },
      "source": [
        "print(or_tarros([-1,15,19,0,-1,-1,6,18]))"
      ],
      "execution_count": null,
      "outputs": [
        {
          "output_type": "stream",
          "text": [
            "[-1, 0, 6, 15, -1, -1, 18, 19]\n"
          ],
          "name": "stdout"
        }
      ]
    },
    {
      "cell_type": "markdown",
      "metadata": {
        "id": "xLrXHey8ay4B"
      },
      "source": [
        "## Pregunta 5\n",
        "Dada una string, hacer una función que escriba al revés las palabras que estén dentro de paréntesis. Puede haber paréntesis dentro de paréntesis.\n",
        "#### Reglas\n",
        "1. No pueden usar paquetes\n",
        "2. La string de entrada solo tendrá letras en minúsculas sin incluir la ñ.\n",
        "3. Todos los paréntesis tendrán su pareja correspondiente.\n",
        "4. La string de entrada podrá estar vacía. Por el contrario, podrá contener hasta 50 caractéres.\n",
        "5. La salida de la función debe de ser la string transformada.\n",
        "### Codigo"
      ]
    },
    {
      "cell_type": "code",
      "metadata": {
        "id": "8A33rs9Vay4B"
      },
      "source": [
        "def voltea(string):\n",
        "    char_lst = [char for char in string]\n",
        "    temp_lst = []\n",
        "    index_start = 0\n",
        "    index_end = 0\n",
        "    while \")\" in char_lst:\n",
        "      for index, char in enumerate(char_lst):\n",
        "          if char == \"(\":\n",
        "              index_start = index\n",
        "          if char == \")\":\n",
        "              index_end = index\n",
        "              break\n",
        "        \n",
        "      temp_lst = char_lst[index_start+1 : index_end]\n",
        "      temp_lst.reverse()\n",
        "      char_lst[index_start+1:index_end] = temp_lst\n",
        "      del char_lst[index_start]\n",
        "      del char_lst[index_end-1]\n",
        "    return \"\".join(char_lst)\n",
        "    "
      ],
      "execution_count": null,
      "outputs": []
    },
    {
      "cell_type": "markdown",
      "metadata": {
        "id": "yA29jxCIay4C"
      },
      "source": [
        "Probemos el codigo "
      ]
    },
    {
      "cell_type": "code",
      "metadata": {
        "id": "5Bp6E3ABay4D",
        "colab": {
          "base_uri": "https://localhost:8080/",
          "height": 35
        },
        "outputId": "eaa09c58-931e-48ce-a94f-af70d29ebc52"
      },
      "source": [
        "voltea(\"(ag)(oñ)aplsod(lodkkdod)ldkfkdkdkaodjsj(dkslldk)ddkdk\")"
      ],
      "execution_count": null,
      "outputs": [
        {
          "output_type": "execute_result",
          "data": {
            "application/vnd.google.colaboratory.intrinsic+json": {
              "type": "string"
            },
            "text/plain": [
              "'gañoaplsoddodkkdolldkfkdkdkaodjsjkdllskdddkdk'"
            ]
          },
          "metadata": {
            "tags": []
          },
          "execution_count": 11
        }
      ]
    },
    {
      "cell_type": "markdown",
      "metadata": {
        "id": "bA6fS78Eay4E"
      },
      "source": [
        " ## Pregunta 6\n",
        "Dada una string que contiene espacios, hacer una función que sustituya los espacios\n",
        "por guiones medios.\n",
        "#### Reglas\n",
        "1. No se puede usar paquetes\n",
        "2. La string de entrada contendrá espacios y podrá contener de 1 a 10 palabras separadas por\n",
        "espacios.\n",
        "3. La salida de la función debe de ser la string transformada.\n",
        "### Codigo"
      ]
    },
    {
      "cell_type": "code",
      "metadata": {
        "id": "RD74cxkTay4E"
      },
      "source": [
        "def r(s):\n",
        "  plabras=s.split()\n",
        "  i=0\n",
        "  while i < len(plabras):\n",
        "    palabra=plabras[i]\n",
        "    i += 1\n",
        "  if i>10:\n",
        "    print(\"muy grande :v\")\n",
        "  else:\n",
        "      print(s.replace(\" \",\"-\"))"
      ],
      "execution_count": null,
      "outputs": []
    },
    {
      "cell_type": "markdown",
      "metadata": {
        "id": "fBIup5JWay4F"
      },
      "source": [
        "Probemos el codigo "
      ]
    },
    {
      "cell_type": "code",
      "metadata": {
        "id": "o91wnm3vay4F",
        "colab": {
          "base_uri": "https://localhost:8080/"
        },
        "outputId": "b95d14a9-0934-4dd2-b018-aec1b6677cb3"
      },
      "source": [
        "r(\"Tan solo un instante\")\n",
        "#jala"
      ],
      "execution_count": null,
      "outputs": [
        {
          "output_type": "stream",
          "text": [
            "Tan-solo-un-instante\n"
          ],
          "name": "stdout"
        }
      ]
    },
    {
      "cell_type": "code",
      "metadata": {
        "colab": {
          "base_uri": "https://localhost:8080/"
        },
        "id": "oOs9XNFDdJDQ",
        "outputId": "c721257d-570e-4997-dd04-0b149db16cc2"
      },
      "source": [
        "#Si se pasa de palabras\n",
        "r(\"Tan solo un instante tomate para leer las instrucciones para que no tengas que repetirlo \")"
      ],
      "execution_count": null,
      "outputs": [
        {
          "output_type": "stream",
          "text": [
            "muy grande :v\n"
          ],
          "name": "stdout"
        }
      ]
    },
    {
      "cell_type": "markdown",
      "metadata": {
        "id": "y63LSHZZIlN1"
      },
      "source": [
        "# Problemas de graficación"
      ]
    },
    {
      "cell_type": "markdown",
      "metadata": {
        "id": "UmierDzLZbdL"
      },
      "source": [
        "## Pregunta 9.\n",
        " Seguir las siguientes instrucciones para generar las gráficas que se piden. En todos\n",
        "los puntos se debe de generar la gr ́afica que se pide. Por la naturaleza de las preguntas, pueden\n",
        "usar paquetes."
      ]
    },
    {
      "cell_type": "markdown",
      "metadata": {
        "id": "jykJDEVPOkXs"
      },
      "source": [
        "1. Generar tres conjuntos de mil números aleatorios que sigan una distribución normal. Cada conjunto debe estar centrado en diferentes valores (μ1, μ2, μ3) y con diferentes anchuras (σ1, σ2, σ3). Cada conjunto debe de ser guardado en una variable diferente."
      ]
    },
    {
      "cell_type": "code",
      "metadata": {
        "id": "s7dU7p1Ftb9X"
      },
      "source": [
        "import random\n",
        "import numpy as np\n",
        "import matplotlib.pyplot as plt\n",
        "from matplotlib import gridspec\n",
        "\n",
        "mu1 = 1\n",
        "sigma1 = 0.2\n",
        "mu2 = 2\n",
        "sigma2 = 0.4\n",
        "mu3 = 3\n",
        "sigma3= 0.6\n",
        "\n"
      ],
      "execution_count": null,
      "outputs": []
    },
    {
      "cell_type": "markdown",
      "metadata": {
        "id": "j9VAmZZDO1ga"
      },
      "source": [
        "2. Hacer un histograma donde se muestren las tres distribuciones correspondientes a los tres conjuntos de números aleatorios. Las distribuciones deben de estar acomodadas de acuerdo a su anchura."
      ]
    },
    {
      "cell_type": "code",
      "metadata": {
        "colab": {
          "base_uri": "https://localhost:8080/",
          "height": 265
        },
        "id": "6nEwNCgmO1Ba",
        "outputId": "f84b1a5a-b824-4e0a-ed28-b9878016d15c"
      },
      "source": [
        "datos1 = [np.random.normal(mu1, sigma1) for _ in range(1000)]\n",
        "datos2 = [np.random.normal(mu2, sigma2) for _ in range(1000)]\n",
        "datos3 = [np.random.normal(mu3, sigma3) for _ in range(1000)]\n",
        "bins = np.linspace(-1, 4, 100)\n",
        "g1=plt.hist(datos1, bins, alpha=1, label='mu1') ## Alpha nos da la transparencia\n",
        "plt.hist(datos2, bins, alpha=0.6, label='mu2')\n",
        "plt.hist(datos3, bins, alpha=0.3, label='mu3')\n",
        "plt.legend(loc='upper left')\n",
        "plt.show()"
      ],
      "execution_count": null,
      "outputs": [
        {
          "output_type": "display_data",
          "data": {
            "image/png": "[encoded data removed]",
            "text/plain": [
              "<Figure size 432x288 with 1 Axes>"
            ]
          },
          "metadata": {
            "tags": [],
            "needs_background": "light"
          }
        }
      ]
    },
    {
      "cell_type": "markdown",
      "metadata": {
        "id": "33B3RJUYPXJi"
      },
      "source": [
        "3. Repetir el histograma del punto anterior y añadir líneas verticales que represente el valor correspondiente μ en la cual se encuentran centradas las distribuciones."
      ]
    },
    {
      "cell_type": "code",
      "metadata": {
        "colab": {
          "base_uri": "https://localhost:8080/",
          "height": 265
        },
        "id": "8k3uIfCsp7Kv",
        "outputId": "e95215c8-be2c-45bc-a948-e07a5b405d81"
      },
      "source": [
        "lin1 = plt.axvline(mu1, ymin=0.0, ymax=100,  color='k', linestyle='dashed', linewidth=1)\n",
        "plt.text(mu1,50,'mu1',rotation=90)\n",
        "lin2 = plt.axvline(mu2, ymin=0.0, ymax=100,  color='g', linestyle='dashed', linewidth=1)\n",
        "plt.text(mu2,50,'mu2',rotation=90)\n",
        "lin3 = plt.axvline(mu3, ymin=0.0, ymax=100,  color='r', linestyle='dashed', linewidth=1)\n",
        "plt.text(mu3,50,'mu3',rotation=90)\n",
        "plt.hist(datos1, bins, alpha=1, label='mu1')\n",
        "plt.hist(datos2, bins, alpha=0.6, label='mu2')\n",
        "plt.hist(datos3, bins, alpha=0.3, label='mu3')\n",
        "plt.legend(loc='upper right')\n",
        "plt.show()"
      ],
      "execution_count": null,
      "outputs": [
        {
          "output_type": "display_data",
          "data": {
            "image/png": "[encoded data removed]",
            "text/plain": [
              "<Figure size 432x288 with 1 Axes>"
            ]
          },
          "metadata": {
            "tags": [],
            "needs_background": "light"
          }
        }
      ]
    },
    {
      "cell_type": "markdown",
      "metadata": {
        "id": "5jVdSE1Msnbh"
      },
      "source": [
        "4. Hacer una gráfica de scatter donde se muestren las tres diferentes distribuciones con un color diferente. Agregar una leyenda donde diga que color corresponde a que distribución."
      ]
    },
    {
      "cell_type": "code",
      "metadata": {
        "colab": {
          "base_uri": "https://localhost:8080/",
          "height": 265
        },
        "id": "OlvkKS14Ezfh",
        "outputId": "11dfc1f1-786a-4d23-e4ec-80ab92747360"
      },
      "source": [
        "plt.scatter(datos1, datos2, alpha=1, label='mu1')\n",
        "plt.scatter(datos2, datos3, alpha=0.5, label='mu2')\n",
        "plt.scatter(datos3, datos1, alpha=0.5, label='mu3')\n",
        "\n",
        "plt.legend(loc='upper right')\n",
        "plt.show()"
      ],
      "execution_count": null,
      "outputs": [
        {
          "output_type": "display_data",
          "data": {
            "image/png": "[encoded data removed]",
            "text/plain": [
              "<Figure size 432x288 with 1 Axes>"
            ]
          },
          "metadata": {
            "tags": [],
            "needs_background": "light"
          }
        }
      ]
    },
    {
      "cell_type": "markdown",
      "metadata": {
        "id": "PdnrOmI2FNPn"
      },
      "source": [
        "5. Hacer un una gráfica que incluya todas las gráficas anteriores en una misma figura. Cada subplot debe de tener su propio título, también la figura principal debe de tener su título correspondiente."
      ]
    },
    {
      "cell_type": "markdown",
      "metadata": {
        "id": "KYclLs9Kkn7p"
      },
      "source": [
        "Pa esta parte de lo que vimos en las dudas xd \\\\\n",
        "Usar subplots ?)\n",
        "Axes [0]\n",
        "Axes [1]\n"
      ]
    },
    {
      "cell_type": "code",
      "metadata": {
        "colab": {
          "base_uri": "https://localhost:8080/",
          "height": 204
        },
        "id": "G3qQgy29FqKl",
        "outputId": "3adc2ffc-ac49-46ef-d21f-5c81caa77f38"
      },
      "source": [
        "fig, axs = plt.subplots(1, 3,  figsize=(20,5))\n",
        "axs[0].hist(datos1, bins=bins)\n",
        "axs[0].hist(datos2, bins=bins, alpha=0.7)\n",
        "axs[0].hist(datos3, bins=bins, alpha=0.5)\n",
        "axs[0].set_title('Grafica distintas distribuciones')\n",
        "axs[1].axvline(mu1, ymin=0.0, ymax=100, color='k', linestyle='dashed', linewidth=1)\n",
        "axs[1].axvline(mu2, ymin=0.0, ymax=100, color='g', linestyle='dashed', linewidth=1)\n",
        "axs[1].axvline(mu3, ymin=0.0, ymax=100, color='r', linestyle='dashed', linewidth=1)\n",
        "axs[1].hist(datos1, bins=bins)\n",
        "axs[1].hist(datos2, bins=bins, alpha=0.7)\n",
        "axs[1].hist(datos3, bins=bins, alpha=0.5)\n",
        "axs[1].set_title('Distribuciones con linea de mu')\n",
        "axs[2].scatter(datos1, datos2, alpha=1)\n",
        "axs[2].scatter(datos2, datos3, alpha=0.5)\n",
        "axs[2].scatter(datos3, datos1, alpha=0.3)\n",
        "axs[2].set_title('Scatter')\n",
        "fig.suptitle('Graficas distintas distribuciones normales', fontsize=16)\n",
        "plt.show()"
      ],
      "execution_count": null,
      "outputs": [
        {
          "output_type": "display_data",
          "data": {
            "image/png": "[encoded data removed]",
            "text/plain": [
              "<Figure size 1440x360 with 3 Axes>"
            ]
          },
          "metadata": {
            "tags": [],
            "needs_background": "light"
          }
        }
      ]
    },
    {
      "cell_type": "markdown",
      "metadata": {
        "id": "prunkvJwzDwf"
      },
      "source": [
        ""
      ]
    },
    {
      "cell_type": "markdown",
      "metadata": {
        "id": "GHT95lsfaJqp"
      },
      "source": [
        "## Pregunta 10\n",
        "Graficar las funciones de los problemas 16 y 17. Para el polinomio, ajustar la gráfica para que se vean las soluciones reales. Para la función trigonométrica, ajustar la gráfica para que se vea la solución dada en el problema 17."
      ]
    },
    {
      "cell_type": "markdown",
      "metadata": {
        "id": "0kqP_vInahxk"
      },
      "source": [
        "Para el problema 16 la función esta dada por\n",
        "$$ P(x) = 230x^{4} + 18x^{3} + 9x^{2} − 221x − 9 $$\n",
        "definamos el polinomio:"
      ]
    },
    {
      "cell_type": "code",
      "metadata": {
        "id": "fPJg608NaUNU"
      },
      "source": [
        "def polinomio(x):\n",
        "  return 230*x**4 + 18*x**3 + 9*x**2 -221*x - 9"
      ],
      "execution_count": null,
      "outputs": []
    },
    {
      "cell_type": "code",
      "metadata": {
        "id": "X2euVI7JbkB2"
      },
      "source": [
        "#Usemos el metodo de bisección para obtneer las raices\n",
        "def raiz_bf(funcion,intervalo,error=1e-6):\n",
        "    raiz = 0.5*(intervalo[0]+intervalo[1])\n",
        "    iteracion = 0\n",
        "    while abs(intervalo[1]-intervalo[0]) > error:\n",
        "        f_izq , f_med = funcion(intervalo[0]) , funcion(raiz)\n",
        "        if f_izq*f_med < 0:\n",
        "            intervalo[1] = raiz\n",
        "        else:\n",
        "            intervalo[0] = raiz\n",
        "        raiz = 0.5*(intervalo[0]+intervalo[1])\n",
        "        iteracion += 1\n",
        "    return raiz,iteracion\n"
      ],
      "execution_count": null,
      "outputs": []
    },
    {
      "cell_type": "markdown",
      "metadata": {
        "id": "r3Et9T49bz8Y"
      },
      "source": [
        "Ahora grafiquemos las raices "
      ]
    },
    {
      "cell_type": "code",
      "metadata": {
        "colab": {
          "base_uri": "https://localhost:8080/",
          "height": 296
        },
        "id": "wVC39jYwbyqr",
        "outputId": "20bc845c-d042-4494-c9a7-986d15152eb3"
      },
      "source": [
        "x = arange(-1,2,0.1)\n",
        "raiz = raiz_bf(polinomio,[0.0,2.0])\n",
        "raiz1 = raiz_bf(polinomio,[-2.0,0.0])\n",
        "print(\"Número de iteraciones: \",raiz[1])\n",
        "plot(x,polinomio(x),label=\"P(x)\")\n",
        "xlabel(\"x\"),ylabel(\"f(x)\")\n",
        "plot([raiz[0]],[0],\"*\",label=\"raíz1\")\n",
        "plot([raiz1[0]],[0],\"o\",label=\"raíz2\")\n",
        "grid(),legend()\n",
        "show()"
      ],
      "execution_count": null,
      "outputs": [
        {
          "output_type": "stream",
          "text": [
            "Número de iteraciones:  21\n"
          ],
          "name": "stdout"
        },
        {
          "output_type": "display_data",
          "data": {
            "image/png": "[encoded data removed]",
            "text/plain": [
              "<Figure size 432x288 with 1 Axes>"
            ]
          },
          "metadata": {
            "tags": [],
            "needs_background": "light"
          }
        }
      ]
    },
    {
      "cell_type": "markdown",
      "metadata": {
        "id": "w4kWioy1c6uJ"
      },
      "source": [
        "La ecuación del problema 17 es:\n",
        "$$ f(x) = tan πx − 6 $$"
      ]
    },
    {
      "cell_type": "code",
      "metadata": {
        "id": "sQPmGfISdIM_",
        "colab": {
          "base_uri": "https://localhost:8080/"
        },
        "outputId": "8a778333-e3f1-48a8-fa53-7a7493e429cc"
      },
      "source": [
        "def f1(x):\n",
        "  return tan(pi*x) -6\n",
        "print(f1(2*pi))"
      ],
      "execution_count": null,
      "outputs": [
        {
          "output_type": "stream",
          "text": [
            "-4.766276376767703\n"
          ],
          "name": "stdout"
        }
      ]
    },
    {
      "cell_type": "markdown",
      "metadata": {
        "id": "IDYWXkhg7WV5"
      },
      "source": [
        "## Pregunta 11. \n",
        "Sabemos que el sistema oscilante más simple que conocemos es una masa y un resorte. Aplicando la segunda ley de Newton $F = ma$ a la masa, podemos obtener las ecuaciones\n",
        "de movimiento del sistema:\n",
        "$$m\\dfrac{d^{2}x}{dt^{2}}+kx=0$$\n",
        "puede ser reescrita como:\n",
        "$$\\dfrac{d^{2}x}{dt}+\\omega_{0}^{2}x=0$$\n",
        "donde $\\omega_{0}=\\sqrt{\\dfrac{k}{m}}$ es la frecuencia natural de oscilación. Las soluciones a esta ecuación de movimiento es:\n",
        "$$x(t)=x_{m}\\cos(w_{0}t+\\phi)$$\n",
        "Donde $x_m$ es la amplitud de oscilación y $\\phi$ es la constante de fase de la oscilación.\n",
        "Tenemos el siguiente sistema de EDO:\n"
      ]
    },
    {
      "cell_type": "markdown",
      "metadata": {
        "id": "RituAEb07oG5"
      },
      "source": [
        "1. Hacer una imagen que muestre la posición de tres diferentes diferentes objetos que sigan la\n",
        "ecuación antes descrita con frecuencias naturales de $\\omega_{0}$, $2\\omega_{0}$ y $3\\omega_{0}$. Suponer que todos los\n",
        "objetos tienen las misma amplitud de oscilación y la misma constante de fase."
      ]
    },
    {
      "cell_type": "markdown",
      "metadata": {
        "id": "s_9aDqpcNAml"
      },
      "source": [
        "Tenemos: \n",
        "$$\\frac{dx}{dt}=v$$\n",
        "$$\\dfrac{d^{2}x}{dt}=-\\omega_{0}^{2}x$$"
      ]
    },
    {
      "cell_type": "code",
      "metadata": {
        "id": "1Ackt45Eyo-8"
      },
      "source": [
        "import numpy as np\n",
        "from scipy.optimize import root_scalar\n",
        "import matplotlib.pyplot as plt\n",
        "from pylab import *\n",
        "from scipy.integrate import odeint"
      ],
      "execution_count": null,
      "outputs": []
    },
    {
      "cell_type": "code",
      "metadata": {
        "id": "saIl92l5OJW9"
      },
      "source": [
        "class movimiento_armonico_simple_rev():\n",
        "  def __init__(self,omega0,x_ini,bins,leyenda,amplitud=1,fase=1):\n",
        "    self.omega0 = omega0\n",
        "    self.amplitud = amplitud\n",
        "    self.fase = fase\n",
        "    self.x_ini = x_ini\n",
        "    self.bins = bins\n",
        "    self.leyenda=leyenda\n",
        "  \n",
        "  def ecuacion(self,x,t):\n",
        "    dx1=x[1]\n",
        "    dx2=(-self.omega0**2)*np.sin(x[0])\n",
        "    return array([dx1,dx2])\n",
        "\n",
        "  def solution2(self):\n",
        "    self.t_bins = np.linspace(0,5*np.pi, self.bins) \n",
        "    self.sol_ODEint = odeint(self.ecuacion,self.x_ini,self.t_bins)\n",
        "    return self.sol_ODEint\n",
        "\n",
        "  def grafica2(self):\n",
        "    fig, ax = plt.subplots()\n",
        "    ax.plot(self.t_bins,self.sol_ODEint)\n",
        "    ax.set_xlabel('x(t)')\n",
        "    ax.set_ylabel('t')\n",
        "    \n",
        "  def print_condiciones2(self):\n",
        "    print('Tenemos una posición inicial:',self.x_ini)\n",
        "    print('Una amplitud:',self.amplitud)\n",
        "    print('Una constante de fase:',self.fase)\n",
        "    print('Una frecuencia natural:',self.omega0)\n",
        "    #print('En un tiempo:',self.t_bins)\n",
        "  def grafica3(self):\n",
        "    plt.plot(self.sol_ODEint[:,0],self.sol_ODEint[:,1],label=self.leyenda)\n",
        "    plt.xlabel('x(t)')\n",
        "    plt.ylabel('v(t)')\n",
        "    plt.legend()\n",
        "  def grafica4(self):\n",
        "    fig, ax = plt.subplots()\n",
        "    ax.plot(self.t_bins,self.sol_ODEint[:,1])\n",
        "    ax.set_xlabel('t')\n",
        "    ax.set_ylabel('x(t)')\n",
        "  def grafica5(self):\n",
        "    plt.plot(self.t_bins,self.sol_ODEint[:,1],label=self.leyenda)\n",
        "    plt.xlabel('t')\n",
        "    plt.ylabel('x(t)')\n",
        "    plt.legend()"
      ],
      "execution_count": null,
      "outputs": []
    },
    {
      "cell_type": "code",
      "metadata": {
        "colab": {
          "base_uri": "https://localhost:8080/",
          "height": 623
        },
        "id": "kjbT0PROZS9o",
        "outputId": "1706392f-bbfe-41d3-f058-633dc054894f"
      },
      "source": [
        "objeto1 = movimiento_armonico_simple_rev(omega0=1,x_ini=[1,0],bins=100,leyenda='Objeto1')\n",
        "objeto1.solution2()\n",
        "objeto2 = movimiento_armonico_simple_rev(omega0=2,x_ini=[1,0],bins=100,leyenda='Objeto2')\n",
        "objeto2.solution2() \n",
        "objeto3= movimiento_armonico_simple_rev(omega0=3,x_ini=[1,0],bins=100,leyenda='Objeto3')\n",
        "objeto3.solution2()\n",
        "plt.figure(figsize=(10,5))\n",
        "objeto1.grafica5()\n",
        "objeto2.grafica5()\n",
        "objeto3.grafica5()\n",
        "\n",
        "print(\"Para el objeto 1:\")\n",
        "objeto1.print_condiciones2()\n",
        "print(\"------------------------------------------------\")\n",
        "print(\"Para el objeto 2:\")\n",
        "objeto2.print_condiciones2()\n",
        "print(\"------------------------------------------------\")\n",
        "print(\"Para el objeto 3:\")\n",
        "objeto3.print_condiciones2()"
      ],
      "execution_count": null,
      "outputs": [
        {
          "output_type": "stream",
          "text": [
            "Para el objeto 1:\n",
            "Tenemos una posición inicial: [1, 0]\n",
            "Una amplitud: 1\n",
            "Una constante de fase: 1\n",
            "Una frecuencia natural: 1\n",
            "------------------------------------------------\n",
            "Para el objeto 2:\n",
            "Tenemos una posición inicial: [1, 0]\n",
            "Una amplitud: 1\n",
            "Una constante de fase: 1\n",
            "Una frecuencia natural: 2\n",
            "------------------------------------------------\n",
            "Para el objeto 3:\n",
            "Tenemos una posición inicial: [1, 0]\n",
            "Una amplitud: 1\n",
            "Una constante de fase: 1\n",
            "Una frecuencia natural: 3\n"
          ],
          "name": "stdout"
        },
        {
          "output_type": "display_data",
          "data": {
            "image/png": "[encoded data removed]",
            "text/plain": [
              "<Figure size 720x360 with 1 Axes>"
            ]
          },
          "metadata": {
            "tags": [],
            "needs_background": "light"
          }
        }
      ]
    },
    {
      "cell_type": "markdown",
      "metadata": {
        "id": "FD2nFR7tizz1"
      },
      "source": [
        "# Problemas *Find-root*"
      ]
    },
    {
      "cell_type": "markdown",
      "metadata": {
        "id": "hDuoFfW7jYI4"
      },
      "source": [
        "## Pregunta 12. \n",
        "Encontrar las soluciones de las siguientes ecuaciones con uno de los tres métodos vistos en clase (indicar con que método estén encontrando las soluciones).**Pueden usar paquetes.**"
      ]
    },
    {
      "cell_type": "markdown",
      "metadata": {
        "id": "n8po61PUjm1h"
      },
      "source": [
        "1. $x − 2x − 5 = 0 \\ \\ \\text{en} \\ [1, 4]$\n",
        "2. $x − cos x = 0 \\ \\ \\text{en} \\  [0, π/2]$\n",
        "3. $x + 3x − 1 = 0 \\ \\  \\text{en} \\ [−3, −2]$\n",
        "4. $x − 0.8 − 0.2 sin x = 0 \\ \\ \\text{en} \\ [0, π/2]$"
      ]
    },
    {
      "cell_type": "markdown",
      "metadata": {
        "id": "kXqPS8QjkQWS"
      },
      "source": [
        "Definimos nuestras funciones de Find-root"
      ]
    },
    {
      "cell_type": "code",
      "metadata": {
        "id": "Bm34kOYQjo20"
      },
      "source": [
        "#Algoritmo para el Método de Bisección:\n",
        "def bis_method(f, a, b, N):   #donde f es la función, en el intervalo [a,b] con N interacciones\n",
        "    if f(a)*f(b) >= 0:\n",
        "        print('El metodo de biseccion fallo')\n",
        "        return None\n",
        "    a_n = a\n",
        "    b_n = b\n",
        "    for n in range(1, N+1):\n",
        "        m_n = (a_n + b_n)/2\n",
        "        f_m_n = f(m_n)\n",
        "        if f(a_n)*f_m_n < 0:\n",
        "            a_n = a_n\n",
        "            b_n = m_n\n",
        "        elif f(b_n)*f_m_n < 0:\n",
        "            a_n = m_n\n",
        "            b_n = b_n\n",
        "        elif f_m_n == 0:\n",
        "            print('Solucion exacta encontrada')\n",
        "            return m_n\n",
        "        else:\n",
        "            print('El método de biseccion fallo')\n",
        "            return None\n",
        "    return (a_n + b_n) / 2\n",
        "    "
      ],
      "execution_count": null,
      "outputs": []
    },
    {
      "cell_type": "code",
      "metadata": {
        "id": "nH_yHL49m9NI"
      },
      "source": [
        "#Algoritmo para Método de Newton (Newton-Rhapson)\n",
        "def newton_method(f, Df, x0, epsilon, max_iter):\n",
        "    xn = x0\n",
        "    for n in range(0,max_iter):\n",
        "        fxn = f(xn)\n",
        "        if abs(fxn) < epsilon:\n",
        "            print('Solucion encontrada despues de ',n,'iteraciones.')\n",
        "            return xn\n",
        "        Dfxn = Df(xn)\n",
        "        if Dfxn == 0:\n",
        "            print('Derivada igual a cero. Solucion no encontrada.')\n",
        "            return None\n",
        "        xn = xn - fxn/Dfxn\n",
        "    print('Se han excedido el numero maximo de iteraciones. Solucion no encontrada.')\n",
        "    return None   "
      ],
      "execution_count": null,
      "outputs": []
    },
    {
      "cell_type": "code",
      "metadata": {
        "id": "vtfSjqZWnGQ0"
      },
      "source": [
        "#Algoritmo para Método de la secante\n",
        "def sec_method(f, a, b, N):\n",
        "    if f(a)*f(b) >= 0:\n",
        "        print(\"El metodo de la secante fallo\")\n",
        "        return None\n",
        "    a_n = a\n",
        "    b_n = b\n",
        "    for n in range(1, N+1):\n",
        "        m_n = a_n - f(a_n) * (b_n - a_n) / (f(b_n) - f(a_n))\n",
        "        f_m_n = f(m_n)\n",
        "        if f(a_n)*f_m_n < 0:\n",
        "            a_n = a_n\n",
        "            b_n = m_n\n",
        "        elif f(b_n)*f_m_n < 0:\n",
        "            a_n = m_n\n",
        "            b_n = b_n\n",
        "        elif f_m_n == 0:\n",
        "            print('Solucion exacta encontrada')\n",
        "            return m_n\n",
        "        else:\n",
        "            print('El método de la secante fallo')\n",
        "            return None\n",
        "    return a_n - f(a_n) * (b_n - a_n)/(f(b_n) - f(a_n))"
      ],
      "execution_count": null,
      "outputs": []
    },
    {
      "cell_type": "code",
      "metadata": {
        "id": "pp5JSMFnwcUY"
      },
      "source": [
        "from scipy.optimize import root_scalar"
      ],
      "execution_count": null,
      "outputs": []
    },
    {
      "cell_type": "markdown",
      "metadata": {
        "id": "puN3BMRcqF7K"
      },
      "source": [
        "Para \n",
        "1. $x − 2x − 5 = 0 \\ \\ \\text{en} \\ [1, 4]$"
      ]
    },
    {
      "cell_type": "code",
      "metadata": {
        "colab": {
          "base_uri": "https://localhost:8080/"
        },
        "id": "pThFOaxqle96",
        "outputId": "9e2f8d88-4684-4558-a1d5-9a2dbf8cc0ab"
      },
      "source": [
        "f = lambda x: x-2*x-5\n",
        "print(\"Por el Método de Bisección tenemos:\")\n",
        "approx1 = bis_method(f,1,4,25)\n",
        "print(approx1)\n",
        "print(\"--------------------------------------------------\")\n",
        "print(\"Por el Método de la secante tenemos:\")\n",
        "approx2 = sec_method(f,1,4,20)\n",
        "print(approx2)\n",
        "print(\"--------------------------------------------------\")\n",
        "print(\"Por el Método de Newton (Newton-Rhapson) tenemos:\")\n",
        "Df = lambda x: -1\n",
        "approx3 = newton_method(f,Df,1,1e-10,4)\n",
        "print(approx3)\n",
        "print(\"--------------------------------------------------\")\n",
        "print(\"Usando funciones root:\")\n",
        "#root_scalar(f, bracket=[1,4],  method='bisect')\n",
        "print(root_scalar(f, x0=1, x1=4, method='secant'))\n",
        "print(\"--------------------------------------------------\")\n",
        "print(root_scalar(f, x0=1, fprime=Df,method='newton'))"
      ],
      "execution_count": null,
      "outputs": [
        {
          "output_type": "stream",
          "text": [
            "Por el Método de Bisección tenemos:\n",
            "El metodo de biseccion fallo\n",
            "None\n",
            "--------------------------------------------------\n",
            "Por el Método de la secante tenemos:\n",
            "El metodo de la secante fallo\n",
            "None\n",
            "--------------------------------------------------\n",
            "Por el Método de Newton (Newton-Rhapson) tenemos:\n",
            "Solucion encontrada despues de  1 iteraciones.\n",
            "-5.0\n",
            "--------------------------------------------------\n",
            "Usando funciones root:\n",
            "      converged: True\n",
            "           flag: 'converged'\n",
            " function_calls: 3\n",
            "     iterations: 2\n",
            "           root: -5.0\n",
            "--------------------------------------------------\n",
            "      converged: True\n",
            "           flag: 'converged'\n",
            " function_calls: 3\n",
            "     iterations: 1\n",
            "           root: -5.0\n"
          ],
          "name": "stdout"
        }
      ]
    },
    {
      "cell_type": "markdown",
      "metadata": {
        "id": "V1GvlKxTqJ_N"
      },
      "source": [
        "Para\n",
        "2. $x − cos x = 0 \\ \\ \\text{en} \\  [0, π/2]$"
      ]
    },
    {
      "cell_type": "code",
      "metadata": {
        "colab": {
          "base_uri": "https://localhost:8080/"
        },
        "id": "zcBvZzQumHWi",
        "outputId": "8527e922-1b73-4783-cd9b-d02773d70ac6"
      },
      "source": [
        "import numpy as np\n",
        "f = lambda x: x-np.cos(x)\n",
        "print(\"Por el Método de Bisección tenemos:\")\n",
        "approx1 = bis_method(f,0,np.pi/2,25)\n",
        "print(approx1)\n",
        "print(\"--------------------------------------------------\")\n",
        "print(\"Por el Método de la secante tenemos:\")\n",
        "approx2 = sec_method(f,0,np.pi/2,20)\n",
        "print(approx2)\n",
        "print(\"--------------------------------------------------\")\n",
        "print(\"Por el Método de Newton (Newton-Rhapson) tenemos:\")\n",
        "Df = lambda x: 1+np.sin(x)\n",
        "approx3 = newton_method(f,Df,0,1e-10,10)\n",
        "print(approx3)\n",
        "print(\"--------------------------------------------------\")\n",
        "print(\"Usando funciones root:\")\n",
        "print(root_scalar(f, bracket=[0,np.pi/2],  method='bisect'))\n",
        "print(root_scalar(f, x0=0, x1=np.pi/2, method='secant'))\n",
        "print(\"--------------------------------------------------\")\n",
        "print(root_scalar(f, x0=1, fprime=Df,method='newton'))"
      ],
      "execution_count": null,
      "outputs": [
        {
          "output_type": "stream",
          "text": [
            "Por el Método de Bisección tenemos:\n",
            "0.7390851496573869\n",
            "--------------------------------------------------\n",
            "Por el Método de la secante tenemos:\n",
            "Solucion exacta encontrada\n",
            "0.7390851332151607\n",
            "--------------------------------------------------\n",
            "Por el Método de Newton (Newton-Rhapson) tenemos:\n",
            "Solucion encontrada despues de  5 iteraciones.\n",
            "0.7390851332151607\n",
            "--------------------------------------------------\n",
            "Usando funciones root:\n",
            "      converged: True\n",
            "           flag: 'converged'\n",
            " function_calls: 42\n",
            "     iterations: 40\n",
            "           root: 0.7390851332152737\n",
            "      converged: True\n",
            "           flag: 'converged'\n",
            " function_calls: 7\n",
            "     iterations: 6\n",
            "           root: 0.7390851332151607\n",
            "--------------------------------------------------\n",
            "      converged: True\n",
            "           flag: 'converged'\n",
            " function_calls: 8\n",
            "     iterations: 4\n",
            "           root: 0.7390851332151607\n"
          ],
          "name": "stdout"
        }
      ]
    },
    {
      "cell_type": "markdown",
      "metadata": {
        "id": "S5O7KxHFsaiP"
      },
      "source": [
        "Para\n",
        "3. $x + 3x − 1 = 0 \\ \\  \\text{en} \\ [−3, −2]$"
      ]
    },
    {
      "cell_type": "code",
      "metadata": {
        "colab": {
          "base_uri": "https://localhost:8080/"
        },
        "id": "5DWm33y4sixC",
        "outputId": "4b644e5e-fba2-48f7-c990-1b2f51daf5b8"
      },
      "source": [
        "f = lambda x: x+(3*x)-1\n",
        "print(\"Por el Método de Bisección tenemos:\")\n",
        "approx1 = bis_method(g,-3,-2,25)\n",
        "print(approx1)\n",
        "print(\"--------------------------------------------------\")\n",
        "print(\"Por el Método de la secante tenemos:\")\n",
        "approx2 = sec_method(g,-3,-2,10)\n",
        "print(approx2)\n",
        "print(\"--------------------------------------------------\")\n",
        "print(\"Por el Método de Newton (Newton-Rhapson) tenemos:\")\n",
        "Df = lambda x: 4\n",
        "approx3 = newton_method(g,Dg,-3,1e-10,10)\n",
        "print(approx3)\n",
        "print(\"--------------------------------------------------\")\n",
        "print(\"Usando funciones root:\")\n",
        "#print(root_scalar(f, bracket=[-2,-3],  method='bisect'))\n",
        "print(root_scalar(f, x0=-3, x1=-2, method='secant'))\n",
        "print(\"--------------------------------------------------\")\n",
        "print(root_scalar(f, x0=-3, fprime=Df,method='newton'))"
      ],
      "execution_count": null,
      "outputs": [
        {
          "output_type": "stream",
          "text": [
            "Por el Método de Bisección tenemos:\n",
            "El metodo de biseccion fallo\n",
            "None\n",
            "--------------------------------------------------\n",
            "Por el Método de la secante tenemos:\n",
            "El metodo de la secante fallo\n",
            "None\n",
            "--------------------------------------------------\n",
            "Por el Método de Newton (Newton-Rhapson) tenemos:\n",
            "Solucion encontrada despues de  1 iteraciones.\n",
            "0.25\n",
            "--------------------------------------------------\n",
            "Usando funciones root:\n",
            "      converged: True\n",
            "           flag: 'converged'\n",
            " function_calls: 3\n",
            "     iterations: 2\n",
            "           root: 0.25\n",
            "--------------------------------------------------\n",
            "      converged: True\n",
            "           flag: 'converged'\n",
            " function_calls: 3\n",
            "     iterations: 1\n",
            "           root: 0.25\n"
          ],
          "name": "stdout"
        }
      ]
    },
    {
      "cell_type": "markdown",
      "metadata": {
        "id": "AVZdR0ccuzxt"
      },
      "source": [
        "Para:\n",
        "4. $x − 0.8 − 0.2 sin x = 0 \\ \\ \\text{en} \\ [0, π/2]$"
      ]
    },
    {
      "cell_type": "code",
      "metadata": {
        "colab": {
          "base_uri": "https://localhost:8080/"
        },
        "id": "cOo1v13HqcIk",
        "outputId": "bb07eae8-769d-41ec-a8f6-2bd5461de9fe"
      },
      "source": [
        "import numpy as np\n",
        "f = lambda x: x-0.8-0.2*np.sin(x)\n",
        "print(\"Por el Método de Bisección tenemos:\")\n",
        "approx1 = bis_method(f,0,np.pi/2,25)\n",
        "print(approx1)\n",
        "print(\"--------------------------------------------------\")\n",
        "print(\"Por el Método de la secante tenemos:\")\n",
        "approx2 = sec_method(f,0,np.pi/2,20)\n",
        "print(approx2)\n",
        "print(\"--------------------------------------------------\")\n",
        "print(\"Por el Método de Newton (Newton-Rhapson) tenemos:\")\n",
        "Df = lambda x: 1+np.sin(x)\n",
        "approx3 = newton_method(f,Df,0,1e-10,40)\n",
        "print(approx3)\n",
        "print(\"--------------------------------------------------\")\n",
        "print(\"Usando funciones root:\")\n",
        "#print(root_scalar(f, bracket=[-2,-3],  method='bisect'))\n",
        "print(root_scalar(f, x0=-3, x1=-2, method='secant'))\n",
        "print(\"--------------------------------------------------\")\n",
        "print(root_scalar(f, x0=-3, fprime=Df,method='newton'))\n",
        "print(\"--------------------------------------------------\")\n",
        "print(\"Usando funciones root:\")\n",
        "print(root_scalar(f, bracket=[0,np.pi/2],  method='bisect'))\n",
        "print(root_scalar(f, x0=0, x1=np.pi/2, method='secant'))\n",
        "print(\"--------------------------------------------------\")\n",
        "print(root_scalar(f, x0=0, fprime=Df,method='newton'))"
      ],
      "execution_count": null,
      "outputs": [
        {
          "output_type": "stream",
          "text": [
            "Por el Método de Bisección tenemos:\n",
            "0.9643338998519599\n",
            "--------------------------------------------------\n",
            "Por el Método de la secante tenemos:\n",
            "0.9643338876952227\n",
            "--------------------------------------------------\n",
            "Por el Método de Newton (Newton-Rhapson) tenemos:\n",
            "Solucion encontrada despues de  33 iteraciones.\n",
            "0.9643338876117795\n",
            "--------------------------------------------------\n",
            "Usando funciones root:\n",
            "      converged: True\n",
            "           flag: 'converged'\n",
            " function_calls: 8\n",
            "     iterations: 7\n",
            "           root: 0.9643338876952225\n",
            "--------------------------------------------------\n",
            "      converged: True\n",
            "           flag: 'converged'\n",
            " function_calls: 54\n",
            "     iterations: 27\n",
            "           root: 0.9643339021130611\n",
            "--------------------------------------------------\n",
            "Usando funciones root:\n",
            "      converged: True\n",
            "           flag: 'converged'\n",
            " function_calls: 42\n",
            "     iterations: 40\n",
            "           root: 0.9643338876957392\n",
            "      converged: True\n",
            "           flag: 'converged'\n",
            " function_calls: 6\n",
            "     iterations: 5\n",
            "           root: 0.964333887695228\n",
            "--------------------------------------------------\n",
            "      converged: True\n",
            "           flag: 'converged'\n",
            " function_calls: 52\n",
            "     iterations: 26\n",
            "           root: 0.9643338788472454\n"
          ],
          "name": "stdout"
        }
      ]
    },
    {
      "cell_type": "markdown",
      "metadata": {
        "id": "FZ1TtZlRttti"
      },
      "source": [
        "## Pregunta 14\n",
        "Encontrar las cuatro soluciones de 4x cos(2x)−(x−2) = 0 en [0, 8] con una precisión de al menos $10^{−5}$. Pueden usar paquetes siempre y cuando garantizen la precisión de alguna forma.\n",
        "Usar uno de los métodos vistos en clase."
      ]
    },
    {
      "cell_type": "code",
      "metadata": {
        "id": "Mb5d18Rtt0IN"
      },
      "source": [
        "def c(x):\n",
        "  return 4*x*np.cos(2*x)-(x-2)"
      ],
      "execution_count": null,
      "outputs": []
    },
    {
      "cell_type": "markdown",
      "metadata": {
        "id": "ynrYmB-0t5-y"
      },
      "source": [
        "Este ecuación tiene raices en los intervalos:\n",
        "1. [0,1] que es igual a $x\\approx 0.93098054$\n",
        "2. [2,3] que es igual a $x\\approx 2.3759799$\n",
        "3. [3,4] que es igual a $x\\approx 3.8665013$\n",
        "4. [5,6] que es igual a $x\\approx 5.57831849$  \n",
        "obtenidos con el software de Mathway. Entonces obtengamoslo con el metodo de bisección usado en la pregunta 16."
      ]
    },
    {
      "cell_type": "code",
      "metadata": {
        "colab": {
          "base_uri": "https://localhost:8080/"
        },
        "id": "sJL1J92svvtY",
        "outputId": "87505a9e-2377-424f-bdb0-0902675da309"
      },
      "source": [
        "print(\"Primera raiz obtenida; \", raiz_bf(c,[0.0,1.0],1e-5), \"En el intervalo [0,1]\")\n",
        "print(\"Segunda raiz obtenida; \", raiz_bf(c,[2.0,3.0],1e-5), \"En el intervalo [2,3]\")\n",
        "print(\"Tercera raiz obtenida; \", raiz_bf(c,[3.0,4.0],1e-5), \"En el intervalo [3,4]\")\n",
        "print(\"Cuarta raiz obtenida; \", raiz_bf(c,[5.0,6.0],1e-5), \"En el intervalo [5,6]\")"
      ],
      "execution_count": null,
      "outputs": [
        {
          "output_type": "stream",
          "text": [
            "Primera raiz obtenida;  (0.9309806823730469, 17) En el intervalo [0,1]\n",
            "Segunda raiz obtenida;  (2.3759803771972656, 17) En el intervalo [2,3]\n",
            "Tercera raiz obtenida;  (3.866504669189453, 17) En el intervalo [3,4]\n",
            "Cuarta raiz obtenida;  (5.578319549560547, 17) En el intervalo [5,6]\n"
          ],
          "name": "stdout"
        }
      ]
    },
    {
      "cell_type": "markdown",
      "metadata": {
        "id": "hcR7dkdnwRAB"
      },
      "source": [
        "Se observa que el error obtenido por el metodo de bisección es de $10^{-5}$"
      ]
    },
    {
      "cell_type": "markdown",
      "metadata": {
        "id": "vSLees17L0CH"
      },
      "source": [
        "## Pregunta 16\n",
        "El polinomio de cuarto grado \n",
        "$$ P(x) = 230x^{4}+18x^{3}+9x^{2}-221x-9 $$\n",
        "tiene dos soluciones reales, una en [-1,0] y otro en [0,1]. Calcular una aproximación de estas soluciones con una presición de $10^{-6}$ con dos de los tres métodos vistos en clase. Pueden usar paquetes siempre y cuando aseuren que éstan usando los métdos indicados."
      ]
    },
    {
      "cell_type": "markdown",
      "metadata": {
        "id": "lL7ENSqDNGfG"
      },
      "source": [
        "**El metodo de Bisección**: esta dado por el siguiente codigo:"
      ]
    },
    {
      "cell_type": "code",
      "metadata": {
        "id": "r8MELIXvZWtu"
      },
      "source": [
        "def raiz_bf(funcion,intervalo,error=1e-6):\n",
        "    raiz = 0.5*(intervalo[0]+intervalo[1])\n",
        "    iteracion = 0\n",
        "    while abs(intervalo[1]-intervalo[0]) > error:\n",
        "        f_izq , f_med = funcion(intervalo[0]) , funcion(raiz)\n",
        "        if f_izq*f_med < 0:\n",
        "            intervalo[1] = raiz\n",
        "        else:\n",
        "            intervalo[0] = raiz\n",
        "        raiz = 0.5*(intervalo[0]+intervalo[1])\n",
        "        iteracion += 1\n",
        "    return raiz,iteracion"
      ],
      "execution_count": null,
      "outputs": []
    },
    {
      "cell_type": "markdown",
      "metadata": {
        "id": "u4t3AioBNeeY"
      },
      "source": [
        "*** El Metodo de Newton ***: esta dado por le siguiente codigo:"
      ]
    },
    {
      "cell_type": "code",
      "metadata": {
        "id": "uuGxLTn0NXAc"
      },
      "source": [
        "def raiz_Newton(funcion,p_ini,f_prima,error=1e-6):\n",
        "    iteracion = 0\n",
        "    while abs(funcion(p_ini)) > error:\n",
        "        p_ini += -(funcion(p_ini)/f_prima(p_ini))\n",
        "        iteracion +=1\n",
        "    return p_ini,iteracion"
      ],
      "execution_count": null,
      "outputs": []
    },
    {
      "cell_type": "markdown",
      "metadata": {
        "id": "M_QUPS43N2xv"
      },
      "source": [
        "Ahora definamos la funcion del polinomio "
      ]
    },
    {
      "cell_type": "code",
      "metadata": {
        "id": "jS_vsu0wNuSk"
      },
      "source": [
        "def f(x):\n",
        "  return 230*x**4 + 18*x**3 + 9*x**2 - 221*x - 9\n",
        "\n",
        "def f_p(x):\n",
        "  return 4*230*x**3 + 3*18*x**2 + 18*x - 221"
      ],
      "execution_count": null,
      "outputs": []
    },
    {
      "cell_type": "code",
      "metadata": {
        "colab": {
          "base_uri": "https://localhost:8080/"
        },
        "id": "1Orp-m6UPY5c",
        "outputId": "301a35de-19db-4842-bbee-c21e5f49b33b"
      },
      "source": [
        "print(\"Resultado por el metodo de Bisección: \",raiz_bf(f,[-0.1,0.0],1e-6), \"en el intervalo [-1,0]\")\n",
        "print(\"Resultado por el metodo de Bisección: \",raiz_bf(f,[0.9,1.0],1e-6), \"en el intervalo [0,1]\")\n",
        "print(\"Resultado por el metodo de Newton: \",raiz_Newton(f,-0.1,f_p), \"en el intervalo [-1,0]\")\n",
        "print(\"Resultado por el metodo de Newton: \",raiz_Newton(f,0.9,f_p), \"en el intervalo [1,0]\")"
      ],
      "execution_count": null,
      "outputs": [
        {
          "output_type": "stream",
          "text": [
            "Resultado por el metodo de Bisección:  (-0.04065895080566407, 17) en el intervalo [-1,0]\n",
            "Resultado por el metodo de Bisección:  (0.9623981475830077, 17) en el intervalo [0,1]\n",
            "Resultado por el metodo de Newton:  (-0.040659290265695, 2) en el intervalo [-1,0]\n",
            "Resultado por el metodo de Newton:  (0.9623984187505487, 4) en el intervalo [1,0]\n"
          ],
          "name": "stdout"
        }
      ]
    },
    {
      "cell_type": "markdown",
      "metadata": {
        "id": "_-gvUgo2Qtlf"
      },
      "source": [
        "Se observa que el metodo de Bisección  realiza más iteraciones que el metodo de Newton para lograr la presición de $10^{-6}$"
      ]
    }
  ]
}